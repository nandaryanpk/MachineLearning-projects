{
 "cells": [
  {
   "cell_type": "markdown",
   "metadata": {},
   "source": [
    "# Import and Cleaning Data"
   ]
  },
  {
   "cell_type": "code",
   "execution_count": 1,
   "metadata": {
    "ExecuteTime": {
     "end_time": "2020-11-23T15:33:20.202467Z",
     "start_time": "2020-11-23T15:33:17.507423Z"
    }
   },
   "outputs": [],
   "source": [
    "import pandas as pd\n",
    "import numpy as np\n",
    "import matplotlib.pyplot as plt\n",
    "import sklearn\n",
    "import seaborn as sns"
   ]
  },
  {
   "cell_type": "code",
   "execution_count": 2,
   "metadata": {
    "ExecuteTime": {
     "end_time": "2020-11-23T15:33:20.298307Z",
     "start_time": "2020-11-23T15:33:20.202467Z"
    }
   },
   "outputs": [
    {
     "data": {
      "text/html": [
       "<div>\n",
       "<style scoped>\n",
       "    .dataframe tbody tr th:only-of-type {\n",
       "        vertical-align: middle;\n",
       "    }\n",
       "\n",
       "    .dataframe tbody tr th {\n",
       "        vertical-align: top;\n",
       "    }\n",
       "\n",
       "    .dataframe thead th {\n",
       "        text-align: right;\n",
       "    }\n",
       "</style>\n",
       "<table border=\"1\" class=\"dataframe\">\n",
       "  <thead>\n",
       "    <tr style=\"text-align: right;\">\n",
       "      <th></th>\n",
       "      <th>DATE_TIME</th>\n",
       "      <th>PLANT_ID</th>\n",
       "      <th>SOURCE_KEY</th>\n",
       "      <th>DC_POWER</th>\n",
       "      <th>AC_POWER</th>\n",
       "      <th>DAILY_YIELD</th>\n",
       "      <th>TOTAL_YIELD</th>\n",
       "    </tr>\n",
       "  </thead>\n",
       "  <tbody>\n",
       "    <tr>\n",
       "      <th>0</th>\n",
       "      <td>15-05-2020 00:00</td>\n",
       "      <td>4135001</td>\n",
       "      <td>1BY6WEcLGh8j5v7</td>\n",
       "      <td>0.0</td>\n",
       "      <td>0.0</td>\n",
       "      <td>0.000</td>\n",
       "      <td>6259559.0</td>\n",
       "    </tr>\n",
       "    <tr>\n",
       "      <th>1</th>\n",
       "      <td>15-05-2020 00:00</td>\n",
       "      <td>4135001</td>\n",
       "      <td>1IF53ai7Xc0U56Y</td>\n",
       "      <td>0.0</td>\n",
       "      <td>0.0</td>\n",
       "      <td>0.000</td>\n",
       "      <td>6183645.0</td>\n",
       "    </tr>\n",
       "    <tr>\n",
       "      <th>2</th>\n",
       "      <td>15-05-2020 00:00</td>\n",
       "      <td>4135001</td>\n",
       "      <td>3PZuoBAID5Wc2HD</td>\n",
       "      <td>0.0</td>\n",
       "      <td>0.0</td>\n",
       "      <td>0.000</td>\n",
       "      <td>6987759.0</td>\n",
       "    </tr>\n",
       "    <tr>\n",
       "      <th>3</th>\n",
       "      <td>15-05-2020 00:00</td>\n",
       "      <td>4135001</td>\n",
       "      <td>7JYdWkrLSPkdwr4</td>\n",
       "      <td>0.0</td>\n",
       "      <td>0.0</td>\n",
       "      <td>0.000</td>\n",
       "      <td>7602960.0</td>\n",
       "    </tr>\n",
       "    <tr>\n",
       "      <th>4</th>\n",
       "      <td>15-05-2020 00:00</td>\n",
       "      <td>4135001</td>\n",
       "      <td>McdE0feGgRqW7Ca</td>\n",
       "      <td>0.0</td>\n",
       "      <td>0.0</td>\n",
       "      <td>0.000</td>\n",
       "      <td>7158964.0</td>\n",
       "    </tr>\n",
       "    <tr>\n",
       "      <th>...</th>\n",
       "      <td>...</td>\n",
       "      <td>...</td>\n",
       "      <td>...</td>\n",
       "      <td>...</td>\n",
       "      <td>...</td>\n",
       "      <td>...</td>\n",
       "      <td>...</td>\n",
       "    </tr>\n",
       "    <tr>\n",
       "      <th>68773</th>\n",
       "      <td>17-06-2020 23:45</td>\n",
       "      <td>4135001</td>\n",
       "      <td>uHbuxQJl8lW7ozc</td>\n",
       "      <td>0.0</td>\n",
       "      <td>0.0</td>\n",
       "      <td>5967.000</td>\n",
       "      <td>7287002.0</td>\n",
       "    </tr>\n",
       "    <tr>\n",
       "      <th>68774</th>\n",
       "      <td>17-06-2020 23:45</td>\n",
       "      <td>4135001</td>\n",
       "      <td>wCURE6d3bPkepu2</td>\n",
       "      <td>0.0</td>\n",
       "      <td>0.0</td>\n",
       "      <td>5147.625</td>\n",
       "      <td>7028601.0</td>\n",
       "    </tr>\n",
       "    <tr>\n",
       "      <th>68775</th>\n",
       "      <td>17-06-2020 23:45</td>\n",
       "      <td>4135001</td>\n",
       "      <td>z9Y9gH1T5YWrNuG</td>\n",
       "      <td>0.0</td>\n",
       "      <td>0.0</td>\n",
       "      <td>5819.000</td>\n",
       "      <td>7251204.0</td>\n",
       "    </tr>\n",
       "    <tr>\n",
       "      <th>68776</th>\n",
       "      <td>17-06-2020 23:45</td>\n",
       "      <td>4135001</td>\n",
       "      <td>zBIq5rxdHJRwDNY</td>\n",
       "      <td>0.0</td>\n",
       "      <td>0.0</td>\n",
       "      <td>5817.000</td>\n",
       "      <td>6583369.0</td>\n",
       "    </tr>\n",
       "    <tr>\n",
       "      <th>68777</th>\n",
       "      <td>17-06-2020 23:45</td>\n",
       "      <td>4135001</td>\n",
       "      <td>zVJPv84UY57bAof</td>\n",
       "      <td>0.0</td>\n",
       "      <td>0.0</td>\n",
       "      <td>5910.000</td>\n",
       "      <td>7363272.0</td>\n",
       "    </tr>\n",
       "  </tbody>\n",
       "</table>\n",
       "<p>68778 rows × 7 columns</p>\n",
       "</div>"
      ],
      "text/plain": [
       "              DATE_TIME  PLANT_ID       SOURCE_KEY  DC_POWER  AC_POWER  \\\n",
       "0      15-05-2020 00:00   4135001  1BY6WEcLGh8j5v7       0.0       0.0   \n",
       "1      15-05-2020 00:00   4135001  1IF53ai7Xc0U56Y       0.0       0.0   \n",
       "2      15-05-2020 00:00   4135001  3PZuoBAID5Wc2HD       0.0       0.0   \n",
       "3      15-05-2020 00:00   4135001  7JYdWkrLSPkdwr4       0.0       0.0   \n",
       "4      15-05-2020 00:00   4135001  McdE0feGgRqW7Ca       0.0       0.0   \n",
       "...                 ...       ...              ...       ...       ...   \n",
       "68773  17-06-2020 23:45   4135001  uHbuxQJl8lW7ozc       0.0       0.0   \n",
       "68774  17-06-2020 23:45   4135001  wCURE6d3bPkepu2       0.0       0.0   \n",
       "68775  17-06-2020 23:45   4135001  z9Y9gH1T5YWrNuG       0.0       0.0   \n",
       "68776  17-06-2020 23:45   4135001  zBIq5rxdHJRwDNY       0.0       0.0   \n",
       "68777  17-06-2020 23:45   4135001  zVJPv84UY57bAof       0.0       0.0   \n",
       "\n",
       "       DAILY_YIELD  TOTAL_YIELD  \n",
       "0            0.000    6259559.0  \n",
       "1            0.000    6183645.0  \n",
       "2            0.000    6987759.0  \n",
       "3            0.000    7602960.0  \n",
       "4            0.000    7158964.0  \n",
       "...            ...          ...  \n",
       "68773     5967.000    7287002.0  \n",
       "68774     5147.625    7028601.0  \n",
       "68775     5819.000    7251204.0  \n",
       "68776     5817.000    6583369.0  \n",
       "68777     5910.000    7363272.0  \n",
       "\n",
       "[68778 rows x 7 columns]"
      ]
     },
     "execution_count": 2,
     "metadata": {},
     "output_type": "execute_result"
    }
   ],
   "source": [
    "plant1 = pd.read_csv(\n",
    "    'solar_data/Plant_1_Generation_Data.csv', low_memory=False)\n",
    "plant1"
   ]
  },
  {
   "cell_type": "code",
   "execution_count": 3,
   "metadata": {
    "ExecuteTime": {
     "end_time": "2020-11-23T15:33:20.506074Z",
     "start_time": "2020-11-23T15:33:20.298307Z"
    }
   },
   "outputs": [
    {
     "data": {
      "text/html": [
       "<div>\n",
       "<style scoped>\n",
       "    .dataframe tbody tr th:only-of-type {\n",
       "        vertical-align: middle;\n",
       "    }\n",
       "\n",
       "    .dataframe tbody tr th {\n",
       "        vertical-align: top;\n",
       "    }\n",
       "\n",
       "    .dataframe thead th {\n",
       "        text-align: right;\n",
       "    }\n",
       "</style>\n",
       "<table border=\"1\" class=\"dataframe\">\n",
       "  <thead>\n",
       "    <tr style=\"text-align: right;\">\n",
       "      <th></th>\n",
       "      <th>DC_POWER</th>\n",
       "      <th>AC_POWER</th>\n",
       "      <th>DAILY_YIELD</th>\n",
       "      <th>TOTAL_YIELD</th>\n",
       "    </tr>\n",
       "    <tr>\n",
       "      <th>DATE_TIME</th>\n",
       "      <th></th>\n",
       "      <th></th>\n",
       "      <th></th>\n",
       "      <th></th>\n",
       "    </tr>\n",
       "  </thead>\n",
       "  <tbody>\n",
       "    <tr>\n",
       "      <th>01-06-2020 00:00</th>\n",
       "      <td>0.0</td>\n",
       "      <td>0.0</td>\n",
       "      <td>5407.250000</td>\n",
       "      <td>153519480.0</td>\n",
       "    </tr>\n",
       "    <tr>\n",
       "      <th>01-06-2020 00:15</th>\n",
       "      <td>0.0</td>\n",
       "      <td>0.0</td>\n",
       "      <td>0.000000</td>\n",
       "      <td>153519480.0</td>\n",
       "    </tr>\n",
       "    <tr>\n",
       "      <th>01-06-2020 00:30</th>\n",
       "      <td>0.0</td>\n",
       "      <td>0.0</td>\n",
       "      <td>0.000000</td>\n",
       "      <td>153519480.0</td>\n",
       "    </tr>\n",
       "    <tr>\n",
       "      <th>01-06-2020 00:45</th>\n",
       "      <td>0.0</td>\n",
       "      <td>0.0</td>\n",
       "      <td>0.000000</td>\n",
       "      <td>153519480.0</td>\n",
       "    </tr>\n",
       "    <tr>\n",
       "      <th>01-06-2020 01:00</th>\n",
       "      <td>0.0</td>\n",
       "      <td>0.0</td>\n",
       "      <td>0.000000</td>\n",
       "      <td>153519480.0</td>\n",
       "    </tr>\n",
       "    <tr>\n",
       "      <th>...</th>\n",
       "      <td>...</td>\n",
       "      <td>...</td>\n",
       "      <td>...</td>\n",
       "      <td>...</td>\n",
       "    </tr>\n",
       "    <tr>\n",
       "      <th>31-05-2020 22:45</th>\n",
       "      <td>0.0</td>\n",
       "      <td>0.0</td>\n",
       "      <td>125291.000000</td>\n",
       "      <td>153519480.0</td>\n",
       "    </tr>\n",
       "    <tr>\n",
       "      <th>31-05-2020 23:00</th>\n",
       "      <td>0.0</td>\n",
       "      <td>0.0</td>\n",
       "      <td>125291.000000</td>\n",
       "      <td>153519480.0</td>\n",
       "    </tr>\n",
       "    <tr>\n",
       "      <th>31-05-2020 23:15</th>\n",
       "      <td>0.0</td>\n",
       "      <td>0.0</td>\n",
       "      <td>125291.000000</td>\n",
       "      <td>153519480.0</td>\n",
       "    </tr>\n",
       "    <tr>\n",
       "      <th>31-05-2020 23:30</th>\n",
       "      <td>0.0</td>\n",
       "      <td>0.0</td>\n",
       "      <td>125291.000000</td>\n",
       "      <td>153519480.0</td>\n",
       "    </tr>\n",
       "    <tr>\n",
       "      <th>31-05-2020 23:45</th>\n",
       "      <td>0.0</td>\n",
       "      <td>0.0</td>\n",
       "      <td>113737.142857</td>\n",
       "      <td>153519480.0</td>\n",
       "    </tr>\n",
       "  </tbody>\n",
       "</table>\n",
       "<p>3158 rows × 4 columns</p>\n",
       "</div>"
      ],
      "text/plain": [
       "                  DC_POWER  AC_POWER    DAILY_YIELD  TOTAL_YIELD\n",
       "DATE_TIME                                                       \n",
       "01-06-2020 00:00       0.0       0.0    5407.250000  153519480.0\n",
       "01-06-2020 00:15       0.0       0.0       0.000000  153519480.0\n",
       "01-06-2020 00:30       0.0       0.0       0.000000  153519480.0\n",
       "01-06-2020 00:45       0.0       0.0       0.000000  153519480.0\n",
       "01-06-2020 01:00       0.0       0.0       0.000000  153519480.0\n",
       "...                    ...       ...            ...          ...\n",
       "31-05-2020 22:45       0.0       0.0  125291.000000  153519480.0\n",
       "31-05-2020 23:00       0.0       0.0  125291.000000  153519480.0\n",
       "31-05-2020 23:15       0.0       0.0  125291.000000  153519480.0\n",
       "31-05-2020 23:30       0.0       0.0  125291.000000  153519480.0\n",
       "31-05-2020 23:45       0.0       0.0  113737.142857  153519480.0\n",
       "\n",
       "[3158 rows x 4 columns]"
      ]
     },
     "execution_count": 3,
     "metadata": {},
     "output_type": "execute_result"
    }
   ],
   "source": [
    "plant1 = plant1.groupby('DATE_TIME')[\n",
    "    ['DC_POWER', 'AC_POWER', 'DAILY_YIELD', 'TOTAL_YIELD']].agg('sum')\n",
    "plant1"
   ]
  },
  {
   "cell_type": "code",
   "execution_count": 4,
   "metadata": {
    "ExecuteTime": {
     "end_time": "2020-11-23T15:33:20.565038Z",
     "start_time": "2020-11-23T15:33:20.506074Z"
    }
   },
   "outputs": [
    {
     "data": {
      "text/html": [
       "<div>\n",
       "<style scoped>\n",
       "    .dataframe tbody tr th:only-of-type {\n",
       "        vertical-align: middle;\n",
       "    }\n",
       "\n",
       "    .dataframe tbody tr th {\n",
       "        vertical-align: top;\n",
       "    }\n",
       "\n",
       "    .dataframe thead th {\n",
       "        text-align: right;\n",
       "    }\n",
       "</style>\n",
       "<table border=\"1\" class=\"dataframe\">\n",
       "  <thead>\n",
       "    <tr style=\"text-align: right;\">\n",
       "      <th></th>\n",
       "      <th>DATE_TIME</th>\n",
       "      <th>DC_POWER</th>\n",
       "      <th>AC_POWER</th>\n",
       "      <th>DAILY_YIELD</th>\n",
       "      <th>TOTAL_YIELD</th>\n",
       "    </tr>\n",
       "  </thead>\n",
       "  <tbody>\n",
       "    <tr>\n",
       "      <th>0</th>\n",
       "      <td>01-06-2020 00:00</td>\n",
       "      <td>0.0</td>\n",
       "      <td>0.0</td>\n",
       "      <td>5407.250000</td>\n",
       "      <td>153519480.0</td>\n",
       "    </tr>\n",
       "    <tr>\n",
       "      <th>1</th>\n",
       "      <td>01-06-2020 00:15</td>\n",
       "      <td>0.0</td>\n",
       "      <td>0.0</td>\n",
       "      <td>0.000000</td>\n",
       "      <td>153519480.0</td>\n",
       "    </tr>\n",
       "    <tr>\n",
       "      <th>2</th>\n",
       "      <td>01-06-2020 00:30</td>\n",
       "      <td>0.0</td>\n",
       "      <td>0.0</td>\n",
       "      <td>0.000000</td>\n",
       "      <td>153519480.0</td>\n",
       "    </tr>\n",
       "    <tr>\n",
       "      <th>3</th>\n",
       "      <td>01-06-2020 00:45</td>\n",
       "      <td>0.0</td>\n",
       "      <td>0.0</td>\n",
       "      <td>0.000000</td>\n",
       "      <td>153519480.0</td>\n",
       "    </tr>\n",
       "    <tr>\n",
       "      <th>4</th>\n",
       "      <td>01-06-2020 01:00</td>\n",
       "      <td>0.0</td>\n",
       "      <td>0.0</td>\n",
       "      <td>0.000000</td>\n",
       "      <td>153519480.0</td>\n",
       "    </tr>\n",
       "    <tr>\n",
       "      <th>...</th>\n",
       "      <td>...</td>\n",
       "      <td>...</td>\n",
       "      <td>...</td>\n",
       "      <td>...</td>\n",
       "      <td>...</td>\n",
       "    </tr>\n",
       "    <tr>\n",
       "      <th>3153</th>\n",
       "      <td>31-05-2020 22:45</td>\n",
       "      <td>0.0</td>\n",
       "      <td>0.0</td>\n",
       "      <td>125291.000000</td>\n",
       "      <td>153519480.0</td>\n",
       "    </tr>\n",
       "    <tr>\n",
       "      <th>3154</th>\n",
       "      <td>31-05-2020 23:00</td>\n",
       "      <td>0.0</td>\n",
       "      <td>0.0</td>\n",
       "      <td>125291.000000</td>\n",
       "      <td>153519480.0</td>\n",
       "    </tr>\n",
       "    <tr>\n",
       "      <th>3155</th>\n",
       "      <td>31-05-2020 23:15</td>\n",
       "      <td>0.0</td>\n",
       "      <td>0.0</td>\n",
       "      <td>125291.000000</td>\n",
       "      <td>153519480.0</td>\n",
       "    </tr>\n",
       "    <tr>\n",
       "      <th>3156</th>\n",
       "      <td>31-05-2020 23:30</td>\n",
       "      <td>0.0</td>\n",
       "      <td>0.0</td>\n",
       "      <td>125291.000000</td>\n",
       "      <td>153519480.0</td>\n",
       "    </tr>\n",
       "    <tr>\n",
       "      <th>3157</th>\n",
       "      <td>31-05-2020 23:45</td>\n",
       "      <td>0.0</td>\n",
       "      <td>0.0</td>\n",
       "      <td>113737.142857</td>\n",
       "      <td>153519480.0</td>\n",
       "    </tr>\n",
       "  </tbody>\n",
       "</table>\n",
       "<p>3158 rows × 5 columns</p>\n",
       "</div>"
      ],
      "text/plain": [
       "             DATE_TIME  DC_POWER  AC_POWER    DAILY_YIELD  TOTAL_YIELD\n",
       "0     01-06-2020 00:00       0.0       0.0    5407.250000  153519480.0\n",
       "1     01-06-2020 00:15       0.0       0.0       0.000000  153519480.0\n",
       "2     01-06-2020 00:30       0.0       0.0       0.000000  153519480.0\n",
       "3     01-06-2020 00:45       0.0       0.0       0.000000  153519480.0\n",
       "4     01-06-2020 01:00       0.0       0.0       0.000000  153519480.0\n",
       "...                ...       ...       ...            ...          ...\n",
       "3153  31-05-2020 22:45       0.0       0.0  125291.000000  153519480.0\n",
       "3154  31-05-2020 23:00       0.0       0.0  125291.000000  153519480.0\n",
       "3155  31-05-2020 23:15       0.0       0.0  125291.000000  153519480.0\n",
       "3156  31-05-2020 23:30       0.0       0.0  125291.000000  153519480.0\n",
       "3157  31-05-2020 23:45       0.0       0.0  113737.142857  153519480.0\n",
       "\n",
       "[3158 rows x 5 columns]"
      ]
     },
     "execution_count": 4,
     "metadata": {},
     "output_type": "execute_result"
    }
   ],
   "source": [
    "plant1.reset_index(inplace=True)\n",
    "plant1"
   ]
  },
  {
   "cell_type": "code",
   "execution_count": 5,
   "metadata": {
    "ExecuteTime": {
     "end_time": "2020-11-23T15:33:20.661485Z",
     "start_time": "2020-11-23T15:33:20.565218Z"
    }
   },
   "outputs": [
    {
     "name": "stdout",
     "output_type": "stream",
     "text": [
      "<class 'pandas.core.frame.DataFrame'>\n",
      "RangeIndex: 3158 entries, 0 to 3157\n",
      "Data columns (total 5 columns):\n",
      " #   Column       Non-Null Count  Dtype  \n",
      "---  ------       --------------  -----  \n",
      " 0   DATE_TIME    3158 non-null   object \n",
      " 1   DC_POWER     3158 non-null   float64\n",
      " 2   AC_POWER     3158 non-null   float64\n",
      " 3   DAILY_YIELD  3158 non-null   float64\n",
      " 4   TOTAL_YIELD  3158 non-null   float64\n",
      "dtypes: float64(4), object(1)\n",
      "memory usage: 123.5+ KB\n"
     ]
    }
   ],
   "source": [
    "plant1.info()"
   ]
  },
  {
   "cell_type": "code",
   "execution_count": 6,
   "metadata": {
    "ExecuteTime": {
     "end_time": "2020-11-23T15:33:21.125219Z",
     "start_time": "2020-11-23T15:33:20.661485Z"
    }
   },
   "outputs": [
    {
     "name": "stdout",
     "output_type": "stream",
     "text": [
      "<class 'pandas.core.frame.DataFrame'>\n",
      "RangeIndex: 3158 entries, 0 to 3157\n",
      "Data columns (total 5 columns):\n",
      " #   Column       Non-Null Count  Dtype         \n",
      "---  ------       --------------  -----         \n",
      " 0   DATE_TIME    3158 non-null   datetime64[ns]\n",
      " 1   DC_POWER     3158 non-null   float64       \n",
      " 2   AC_POWER     3158 non-null   float64       \n",
      " 3   DAILY_YIELD  3158 non-null   float64       \n",
      " 4   TOTAL_YIELD  3158 non-null   float64       \n",
      "dtypes: datetime64[ns](1), float64(4)\n",
      "memory usage: 123.5 KB\n"
     ]
    }
   ],
   "source": [
    "plant1['DATE_TIME'] = pd.to_datetime(plant1['DATE_TIME'])\n",
    "plant1.info()"
   ]
  },
  {
   "cell_type": "code",
   "execution_count": 7,
   "metadata": {
    "ExecuteTime": {
     "end_time": "2020-11-23T15:33:21.173218Z",
     "start_time": "2020-11-23T15:33:21.125219Z"
    }
   },
   "outputs": [
    {
     "data": {
      "text/html": [
       "<div>\n",
       "<style scoped>\n",
       "    .dataframe tbody tr th:only-of-type {\n",
       "        vertical-align: middle;\n",
       "    }\n",
       "\n",
       "    .dataframe tbody tr th {\n",
       "        vertical-align: top;\n",
       "    }\n",
       "\n",
       "    .dataframe thead th {\n",
       "        text-align: right;\n",
       "    }\n",
       "</style>\n",
       "<table border=\"1\" class=\"dataframe\">\n",
       "  <thead>\n",
       "    <tr style=\"text-align: right;\">\n",
       "      <th></th>\n",
       "      <th>DATE_TIME</th>\n",
       "      <th>DC_POWER</th>\n",
       "      <th>AC_POWER</th>\n",
       "      <th>DAILY_YIELD</th>\n",
       "      <th>TOTAL_YIELD</th>\n",
       "      <th>Year</th>\n",
       "      <th>Month</th>\n",
       "      <th>Day</th>\n",
       "      <th>Hour</th>\n",
       "      <th>Minute</th>\n",
       "    </tr>\n",
       "  </thead>\n",
       "  <tbody>\n",
       "    <tr>\n",
       "      <th>0</th>\n",
       "      <td>2020-01-06 00:00:00</td>\n",
       "      <td>0.0</td>\n",
       "      <td>0.0</td>\n",
       "      <td>5407.250000</td>\n",
       "      <td>153519480.0</td>\n",
       "      <td>2020</td>\n",
       "      <td>1</td>\n",
       "      <td>6</td>\n",
       "      <td>0</td>\n",
       "      <td>0</td>\n",
       "    </tr>\n",
       "    <tr>\n",
       "      <th>1</th>\n",
       "      <td>2020-01-06 00:15:00</td>\n",
       "      <td>0.0</td>\n",
       "      <td>0.0</td>\n",
       "      <td>0.000000</td>\n",
       "      <td>153519480.0</td>\n",
       "      <td>2020</td>\n",
       "      <td>1</td>\n",
       "      <td>6</td>\n",
       "      <td>0</td>\n",
       "      <td>15</td>\n",
       "    </tr>\n",
       "    <tr>\n",
       "      <th>2</th>\n",
       "      <td>2020-01-06 00:30:00</td>\n",
       "      <td>0.0</td>\n",
       "      <td>0.0</td>\n",
       "      <td>0.000000</td>\n",
       "      <td>153519480.0</td>\n",
       "      <td>2020</td>\n",
       "      <td>1</td>\n",
       "      <td>6</td>\n",
       "      <td>0</td>\n",
       "      <td>30</td>\n",
       "    </tr>\n",
       "    <tr>\n",
       "      <th>3</th>\n",
       "      <td>2020-01-06 00:45:00</td>\n",
       "      <td>0.0</td>\n",
       "      <td>0.0</td>\n",
       "      <td>0.000000</td>\n",
       "      <td>153519480.0</td>\n",
       "      <td>2020</td>\n",
       "      <td>1</td>\n",
       "      <td>6</td>\n",
       "      <td>0</td>\n",
       "      <td>45</td>\n",
       "    </tr>\n",
       "    <tr>\n",
       "      <th>4</th>\n",
       "      <td>2020-01-06 01:00:00</td>\n",
       "      <td>0.0</td>\n",
       "      <td>0.0</td>\n",
       "      <td>0.000000</td>\n",
       "      <td>153519480.0</td>\n",
       "      <td>2020</td>\n",
       "      <td>1</td>\n",
       "      <td>6</td>\n",
       "      <td>1</td>\n",
       "      <td>0</td>\n",
       "    </tr>\n",
       "    <tr>\n",
       "      <th>...</th>\n",
       "      <td>...</td>\n",
       "      <td>...</td>\n",
       "      <td>...</td>\n",
       "      <td>...</td>\n",
       "      <td>...</td>\n",
       "      <td>...</td>\n",
       "      <td>...</td>\n",
       "      <td>...</td>\n",
       "      <td>...</td>\n",
       "      <td>...</td>\n",
       "    </tr>\n",
       "    <tr>\n",
       "      <th>3153</th>\n",
       "      <td>2020-05-31 22:45:00</td>\n",
       "      <td>0.0</td>\n",
       "      <td>0.0</td>\n",
       "      <td>125291.000000</td>\n",
       "      <td>153519480.0</td>\n",
       "      <td>2020</td>\n",
       "      <td>5</td>\n",
       "      <td>31</td>\n",
       "      <td>22</td>\n",
       "      <td>45</td>\n",
       "    </tr>\n",
       "    <tr>\n",
       "      <th>3154</th>\n",
       "      <td>2020-05-31 23:00:00</td>\n",
       "      <td>0.0</td>\n",
       "      <td>0.0</td>\n",
       "      <td>125291.000000</td>\n",
       "      <td>153519480.0</td>\n",
       "      <td>2020</td>\n",
       "      <td>5</td>\n",
       "      <td>31</td>\n",
       "      <td>23</td>\n",
       "      <td>0</td>\n",
       "    </tr>\n",
       "    <tr>\n",
       "      <th>3155</th>\n",
       "      <td>2020-05-31 23:15:00</td>\n",
       "      <td>0.0</td>\n",
       "      <td>0.0</td>\n",
       "      <td>125291.000000</td>\n",
       "      <td>153519480.0</td>\n",
       "      <td>2020</td>\n",
       "      <td>5</td>\n",
       "      <td>31</td>\n",
       "      <td>23</td>\n",
       "      <td>15</td>\n",
       "    </tr>\n",
       "    <tr>\n",
       "      <th>3156</th>\n",
       "      <td>2020-05-31 23:30:00</td>\n",
       "      <td>0.0</td>\n",
       "      <td>0.0</td>\n",
       "      <td>125291.000000</td>\n",
       "      <td>153519480.0</td>\n",
       "      <td>2020</td>\n",
       "      <td>5</td>\n",
       "      <td>31</td>\n",
       "      <td>23</td>\n",
       "      <td>30</td>\n",
       "    </tr>\n",
       "    <tr>\n",
       "      <th>3157</th>\n",
       "      <td>2020-05-31 23:45:00</td>\n",
       "      <td>0.0</td>\n",
       "      <td>0.0</td>\n",
       "      <td>113737.142857</td>\n",
       "      <td>153519480.0</td>\n",
       "      <td>2020</td>\n",
       "      <td>5</td>\n",
       "      <td>31</td>\n",
       "      <td>23</td>\n",
       "      <td>45</td>\n",
       "    </tr>\n",
       "  </tbody>\n",
       "</table>\n",
       "<p>3158 rows × 10 columns</p>\n",
       "</div>"
      ],
      "text/plain": [
       "               DATE_TIME  DC_POWER  AC_POWER    DAILY_YIELD  TOTAL_YIELD  \\\n",
       "0    2020-01-06 00:00:00       0.0       0.0    5407.250000  153519480.0   \n",
       "1    2020-01-06 00:15:00       0.0       0.0       0.000000  153519480.0   \n",
       "2    2020-01-06 00:30:00       0.0       0.0       0.000000  153519480.0   \n",
       "3    2020-01-06 00:45:00       0.0       0.0       0.000000  153519480.0   \n",
       "4    2020-01-06 01:00:00       0.0       0.0       0.000000  153519480.0   \n",
       "...                  ...       ...       ...            ...          ...   \n",
       "3153 2020-05-31 22:45:00       0.0       0.0  125291.000000  153519480.0   \n",
       "3154 2020-05-31 23:00:00       0.0       0.0  125291.000000  153519480.0   \n",
       "3155 2020-05-31 23:15:00       0.0       0.0  125291.000000  153519480.0   \n",
       "3156 2020-05-31 23:30:00       0.0       0.0  125291.000000  153519480.0   \n",
       "3157 2020-05-31 23:45:00       0.0       0.0  113737.142857  153519480.0   \n",
       "\n",
       "      Year  Month  Day  Hour  Minute  \n",
       "0     2020      1    6     0       0  \n",
       "1     2020      1    6     0      15  \n",
       "2     2020      1    6     0      30  \n",
       "3     2020      1    6     0      45  \n",
       "4     2020      1    6     1       0  \n",
       "...    ...    ...  ...   ...     ...  \n",
       "3153  2020      5   31    22      45  \n",
       "3154  2020      5   31    23       0  \n",
       "3155  2020      5   31    23      15  \n",
       "3156  2020      5   31    23      30  \n",
       "3157  2020      5   31    23      45  \n",
       "\n",
       "[3158 rows x 10 columns]"
      ]
     },
     "execution_count": 7,
     "metadata": {},
     "output_type": "execute_result"
    }
   ],
   "source": [
    "plant1['Year'] = plant1['DATE_TIME'].dt.year\n",
    "plant1['Month'] = plant1['DATE_TIME'].dt.month\n",
    "plant1['Day'] = plant1['DATE_TIME'].dt.day\n",
    "plant1['Hour'] = plant1['DATE_TIME'].dt.hour\n",
    "plant1['Minute'] = plant1['DATE_TIME'].dt.minute\n",
    "plant1"
   ]
  },
  {
   "cell_type": "code",
   "execution_count": 8,
   "metadata": {
    "ExecuteTime": {
     "end_time": "2020-11-23T15:33:21.237240Z",
     "start_time": "2020-11-23T15:33:21.173218Z"
    }
   },
   "outputs": [],
   "source": [
    "del plant1['DATE_TIME']"
   ]
  },
  {
   "cell_type": "code",
   "execution_count": 9,
   "metadata": {
    "ExecuteTime": {
     "end_time": "2020-11-23T15:33:21.349222Z",
     "start_time": "2020-11-23T15:33:21.237240Z"
    }
   },
   "outputs": [
    {
     "data": {
      "text/html": [
       "<div>\n",
       "<style scoped>\n",
       "    .dataframe tbody tr th:only-of-type {\n",
       "        vertical-align: middle;\n",
       "    }\n",
       "\n",
       "    .dataframe tbody tr th {\n",
       "        vertical-align: top;\n",
       "    }\n",
       "\n",
       "    .dataframe thead th {\n",
       "        text-align: right;\n",
       "    }\n",
       "</style>\n",
       "<table border=\"1\" class=\"dataframe\">\n",
       "  <thead>\n",
       "    <tr style=\"text-align: right;\">\n",
       "      <th></th>\n",
       "      <th>DC_POWER</th>\n",
       "      <th>AC_POWER</th>\n",
       "      <th>DAILY_YIELD</th>\n",
       "      <th>TOTAL_YIELD</th>\n",
       "      <th>Year</th>\n",
       "      <th>Month</th>\n",
       "      <th>Day</th>\n",
       "      <th>Hour</th>\n",
       "      <th>Minute</th>\n",
       "    </tr>\n",
       "  </thead>\n",
       "  <tbody>\n",
       "    <tr>\n",
       "      <th>0</th>\n",
       "      <td>0.0</td>\n",
       "      <td>0.0</td>\n",
       "      <td>5407.250000</td>\n",
       "      <td>153519480.0</td>\n",
       "      <td>2020</td>\n",
       "      <td>1</td>\n",
       "      <td>6</td>\n",
       "      <td>0</td>\n",
       "      <td>0</td>\n",
       "    </tr>\n",
       "    <tr>\n",
       "      <th>1</th>\n",
       "      <td>0.0</td>\n",
       "      <td>0.0</td>\n",
       "      <td>0.000000</td>\n",
       "      <td>153519480.0</td>\n",
       "      <td>2020</td>\n",
       "      <td>1</td>\n",
       "      <td>6</td>\n",
       "      <td>0</td>\n",
       "      <td>15</td>\n",
       "    </tr>\n",
       "    <tr>\n",
       "      <th>2</th>\n",
       "      <td>0.0</td>\n",
       "      <td>0.0</td>\n",
       "      <td>0.000000</td>\n",
       "      <td>153519480.0</td>\n",
       "      <td>2020</td>\n",
       "      <td>1</td>\n",
       "      <td>6</td>\n",
       "      <td>0</td>\n",
       "      <td>30</td>\n",
       "    </tr>\n",
       "    <tr>\n",
       "      <th>3</th>\n",
       "      <td>0.0</td>\n",
       "      <td>0.0</td>\n",
       "      <td>0.000000</td>\n",
       "      <td>153519480.0</td>\n",
       "      <td>2020</td>\n",
       "      <td>1</td>\n",
       "      <td>6</td>\n",
       "      <td>0</td>\n",
       "      <td>45</td>\n",
       "    </tr>\n",
       "    <tr>\n",
       "      <th>4</th>\n",
       "      <td>0.0</td>\n",
       "      <td>0.0</td>\n",
       "      <td>0.000000</td>\n",
       "      <td>153519480.0</td>\n",
       "      <td>2020</td>\n",
       "      <td>1</td>\n",
       "      <td>6</td>\n",
       "      <td>1</td>\n",
       "      <td>0</td>\n",
       "    </tr>\n",
       "    <tr>\n",
       "      <th>...</th>\n",
       "      <td>...</td>\n",
       "      <td>...</td>\n",
       "      <td>...</td>\n",
       "      <td>...</td>\n",
       "      <td>...</td>\n",
       "      <td>...</td>\n",
       "      <td>...</td>\n",
       "      <td>...</td>\n",
       "      <td>...</td>\n",
       "    </tr>\n",
       "    <tr>\n",
       "      <th>3153</th>\n",
       "      <td>0.0</td>\n",
       "      <td>0.0</td>\n",
       "      <td>125291.000000</td>\n",
       "      <td>153519480.0</td>\n",
       "      <td>2020</td>\n",
       "      <td>5</td>\n",
       "      <td>31</td>\n",
       "      <td>22</td>\n",
       "      <td>45</td>\n",
       "    </tr>\n",
       "    <tr>\n",
       "      <th>3154</th>\n",
       "      <td>0.0</td>\n",
       "      <td>0.0</td>\n",
       "      <td>125291.000000</td>\n",
       "      <td>153519480.0</td>\n",
       "      <td>2020</td>\n",
       "      <td>5</td>\n",
       "      <td>31</td>\n",
       "      <td>23</td>\n",
       "      <td>0</td>\n",
       "    </tr>\n",
       "    <tr>\n",
       "      <th>3155</th>\n",
       "      <td>0.0</td>\n",
       "      <td>0.0</td>\n",
       "      <td>125291.000000</td>\n",
       "      <td>153519480.0</td>\n",
       "      <td>2020</td>\n",
       "      <td>5</td>\n",
       "      <td>31</td>\n",
       "      <td>23</td>\n",
       "      <td>15</td>\n",
       "    </tr>\n",
       "    <tr>\n",
       "      <th>3156</th>\n",
       "      <td>0.0</td>\n",
       "      <td>0.0</td>\n",
       "      <td>125291.000000</td>\n",
       "      <td>153519480.0</td>\n",
       "      <td>2020</td>\n",
       "      <td>5</td>\n",
       "      <td>31</td>\n",
       "      <td>23</td>\n",
       "      <td>30</td>\n",
       "    </tr>\n",
       "    <tr>\n",
       "      <th>3157</th>\n",
       "      <td>0.0</td>\n",
       "      <td>0.0</td>\n",
       "      <td>113737.142857</td>\n",
       "      <td>153519480.0</td>\n",
       "      <td>2020</td>\n",
       "      <td>5</td>\n",
       "      <td>31</td>\n",
       "      <td>23</td>\n",
       "      <td>45</td>\n",
       "    </tr>\n",
       "  </tbody>\n",
       "</table>\n",
       "<p>3158 rows × 9 columns</p>\n",
       "</div>"
      ],
      "text/plain": [
       "      DC_POWER  AC_POWER    DAILY_YIELD  TOTAL_YIELD  Year  Month  Day  Hour  \\\n",
       "0          0.0       0.0    5407.250000  153519480.0  2020      1    6     0   \n",
       "1          0.0       0.0       0.000000  153519480.0  2020      1    6     0   \n",
       "2          0.0       0.0       0.000000  153519480.0  2020      1    6     0   \n",
       "3          0.0       0.0       0.000000  153519480.0  2020      1    6     0   \n",
       "4          0.0       0.0       0.000000  153519480.0  2020      1    6     1   \n",
       "...        ...       ...            ...          ...   ...    ...  ...   ...   \n",
       "3153       0.0       0.0  125291.000000  153519480.0  2020      5   31    22   \n",
       "3154       0.0       0.0  125291.000000  153519480.0  2020      5   31    23   \n",
       "3155       0.0       0.0  125291.000000  153519480.0  2020      5   31    23   \n",
       "3156       0.0       0.0  125291.000000  153519480.0  2020      5   31    23   \n",
       "3157       0.0       0.0  113737.142857  153519480.0  2020      5   31    23   \n",
       "\n",
       "      Minute  \n",
       "0          0  \n",
       "1         15  \n",
       "2         30  \n",
       "3         45  \n",
       "4          0  \n",
       "...      ...  \n",
       "3153      45  \n",
       "3154       0  \n",
       "3155      15  \n",
       "3156      30  \n",
       "3157      45  \n",
       "\n",
       "[3158 rows x 9 columns]"
      ]
     },
     "execution_count": 9,
     "metadata": {},
     "output_type": "execute_result"
    }
   ],
   "source": [
    "plant1"
   ]
  },
  {
   "cell_type": "code",
   "execution_count": 10,
   "metadata": {
    "ExecuteTime": {
     "end_time": "2020-11-23T15:33:21.461218Z",
     "start_time": "2020-11-23T15:33:21.349222Z"
    }
   },
   "outputs": [
    {
     "data": {
      "text/plain": [
       "DC_POWER       0\n",
       "AC_POWER       0\n",
       "DAILY_YIELD    0\n",
       "TOTAL_YIELD    0\n",
       "Year           0\n",
       "Month          0\n",
       "Day            0\n",
       "Hour           0\n",
       "Minute         0\n",
       "dtype: int64"
      ]
     },
     "execution_count": 10,
     "metadata": {},
     "output_type": "execute_result"
    }
   ],
   "source": [
    "plant1.isna().sum()"
   ]
  },
  {
   "cell_type": "code",
   "execution_count": 11,
   "metadata": {
    "ExecuteTime": {
     "end_time": "2020-11-23T15:33:21.567735Z",
     "start_time": "2020-11-23T15:33:21.461218Z"
    }
   },
   "outputs": [
    {
     "name": "stdout",
     "output_type": "stream",
     "text": [
      "<class 'pandas.core.frame.DataFrame'>\n",
      "RangeIndex: 3158 entries, 0 to 3157\n",
      "Data columns (total 9 columns):\n",
      " #   Column       Non-Null Count  Dtype  \n",
      "---  ------       --------------  -----  \n",
      " 0   DC_POWER     3158 non-null   float64\n",
      " 1   AC_POWER     3158 non-null   float64\n",
      " 2   DAILY_YIELD  3158 non-null   float64\n",
      " 3   TOTAL_YIELD  3158 non-null   float64\n",
      " 4   Year         3158 non-null   int64  \n",
      " 5   Month        3158 non-null   int64  \n",
      " 6   Day          3158 non-null   int64  \n",
      " 7   Hour         3158 non-null   int64  \n",
      " 8   Minute       3158 non-null   int64  \n",
      "dtypes: float64(4), int64(5)\n",
      "memory usage: 222.2 KB\n"
     ]
    }
   ],
   "source": [
    "plant1.info()"
   ]
  },
  {
   "cell_type": "code",
   "execution_count": 12,
   "metadata": {
    "ExecuteTime": {
     "end_time": "2020-11-23T15:33:21.664055Z",
     "start_time": "2020-11-23T15:33:21.567735Z"
    }
   },
   "outputs": [
    {
     "data": {
      "text/plain": [
       "2020    3158\n",
       "Name: Year, dtype: int64"
      ]
     },
     "execution_count": 12,
     "metadata": {},
     "output_type": "execute_result"
    }
   ],
   "source": [
    "plant1.Year.value_counts()"
   ]
  },
  {
   "cell_type": "code",
   "execution_count": 13,
   "metadata": {
    "ExecuteTime": {
     "end_time": "2020-11-23T15:33:21.840948Z",
     "start_time": "2020-11-23T15:33:21.664055Z"
    }
   },
   "outputs": [],
   "source": [
    "del plant1['Year']"
   ]
  },
  {
   "cell_type": "code",
   "execution_count": 14,
   "metadata": {
    "ExecuteTime": {
     "end_time": "2020-11-23T15:33:21.936515Z",
     "start_time": "2020-11-23T15:33:21.840948Z"
    }
   },
   "outputs": [
    {
     "data": {
      "text/html": [
       "<div>\n",
       "<style scoped>\n",
       "    .dataframe tbody tr th:only-of-type {\n",
       "        vertical-align: middle;\n",
       "    }\n",
       "\n",
       "    .dataframe tbody tr th {\n",
       "        vertical-align: top;\n",
       "    }\n",
       "\n",
       "    .dataframe thead th {\n",
       "        text-align: right;\n",
       "    }\n",
       "</style>\n",
       "<table border=\"1\" class=\"dataframe\">\n",
       "  <thead>\n",
       "    <tr style=\"text-align: right;\">\n",
       "      <th></th>\n",
       "      <th>DC_POWER</th>\n",
       "      <th>AC_POWER</th>\n",
       "      <th>DAILY_YIELD</th>\n",
       "      <th>TOTAL_YIELD</th>\n",
       "      <th>Month</th>\n",
       "      <th>Day</th>\n",
       "      <th>Hour</th>\n",
       "      <th>Minute</th>\n",
       "    </tr>\n",
       "  </thead>\n",
       "  <tbody>\n",
       "    <tr>\n",
       "      <th>0</th>\n",
       "      <td>0.0</td>\n",
       "      <td>0.0</td>\n",
       "      <td>5407.250000</td>\n",
       "      <td>153519480.0</td>\n",
       "      <td>1</td>\n",
       "      <td>6</td>\n",
       "      <td>0</td>\n",
       "      <td>0</td>\n",
       "    </tr>\n",
       "    <tr>\n",
       "      <th>1</th>\n",
       "      <td>0.0</td>\n",
       "      <td>0.0</td>\n",
       "      <td>0.000000</td>\n",
       "      <td>153519480.0</td>\n",
       "      <td>1</td>\n",
       "      <td>6</td>\n",
       "      <td>0</td>\n",
       "      <td>15</td>\n",
       "    </tr>\n",
       "    <tr>\n",
       "      <th>2</th>\n",
       "      <td>0.0</td>\n",
       "      <td>0.0</td>\n",
       "      <td>0.000000</td>\n",
       "      <td>153519480.0</td>\n",
       "      <td>1</td>\n",
       "      <td>6</td>\n",
       "      <td>0</td>\n",
       "      <td>30</td>\n",
       "    </tr>\n",
       "    <tr>\n",
       "      <th>3</th>\n",
       "      <td>0.0</td>\n",
       "      <td>0.0</td>\n",
       "      <td>0.000000</td>\n",
       "      <td>153519480.0</td>\n",
       "      <td>1</td>\n",
       "      <td>6</td>\n",
       "      <td>0</td>\n",
       "      <td>45</td>\n",
       "    </tr>\n",
       "    <tr>\n",
       "      <th>4</th>\n",
       "      <td>0.0</td>\n",
       "      <td>0.0</td>\n",
       "      <td>0.000000</td>\n",
       "      <td>153519480.0</td>\n",
       "      <td>1</td>\n",
       "      <td>6</td>\n",
       "      <td>1</td>\n",
       "      <td>0</td>\n",
       "    </tr>\n",
       "    <tr>\n",
       "      <th>...</th>\n",
       "      <td>...</td>\n",
       "      <td>...</td>\n",
       "      <td>...</td>\n",
       "      <td>...</td>\n",
       "      <td>...</td>\n",
       "      <td>...</td>\n",
       "      <td>...</td>\n",
       "      <td>...</td>\n",
       "    </tr>\n",
       "    <tr>\n",
       "      <th>3153</th>\n",
       "      <td>0.0</td>\n",
       "      <td>0.0</td>\n",
       "      <td>125291.000000</td>\n",
       "      <td>153519480.0</td>\n",
       "      <td>5</td>\n",
       "      <td>31</td>\n",
       "      <td>22</td>\n",
       "      <td>45</td>\n",
       "    </tr>\n",
       "    <tr>\n",
       "      <th>3154</th>\n",
       "      <td>0.0</td>\n",
       "      <td>0.0</td>\n",
       "      <td>125291.000000</td>\n",
       "      <td>153519480.0</td>\n",
       "      <td>5</td>\n",
       "      <td>31</td>\n",
       "      <td>23</td>\n",
       "      <td>0</td>\n",
       "    </tr>\n",
       "    <tr>\n",
       "      <th>3155</th>\n",
       "      <td>0.0</td>\n",
       "      <td>0.0</td>\n",
       "      <td>125291.000000</td>\n",
       "      <td>153519480.0</td>\n",
       "      <td>5</td>\n",
       "      <td>31</td>\n",
       "      <td>23</td>\n",
       "      <td>15</td>\n",
       "    </tr>\n",
       "    <tr>\n",
       "      <th>3156</th>\n",
       "      <td>0.0</td>\n",
       "      <td>0.0</td>\n",
       "      <td>125291.000000</td>\n",
       "      <td>153519480.0</td>\n",
       "      <td>5</td>\n",
       "      <td>31</td>\n",
       "      <td>23</td>\n",
       "      <td>30</td>\n",
       "    </tr>\n",
       "    <tr>\n",
       "      <th>3157</th>\n",
       "      <td>0.0</td>\n",
       "      <td>0.0</td>\n",
       "      <td>113737.142857</td>\n",
       "      <td>153519480.0</td>\n",
       "      <td>5</td>\n",
       "      <td>31</td>\n",
       "      <td>23</td>\n",
       "      <td>45</td>\n",
       "    </tr>\n",
       "  </tbody>\n",
       "</table>\n",
       "<p>3158 rows × 8 columns</p>\n",
       "</div>"
      ],
      "text/plain": [
       "      DC_POWER  AC_POWER    DAILY_YIELD  TOTAL_YIELD  Month  Day  Hour  Minute\n",
       "0          0.0       0.0    5407.250000  153519480.0      1    6     0       0\n",
       "1          0.0       0.0       0.000000  153519480.0      1    6     0      15\n",
       "2          0.0       0.0       0.000000  153519480.0      1    6     0      30\n",
       "3          0.0       0.0       0.000000  153519480.0      1    6     0      45\n",
       "4          0.0       0.0       0.000000  153519480.0      1    6     1       0\n",
       "...        ...       ...            ...          ...    ...  ...   ...     ...\n",
       "3153       0.0       0.0  125291.000000  153519480.0      5   31    22      45\n",
       "3154       0.0       0.0  125291.000000  153519480.0      5   31    23       0\n",
       "3155       0.0       0.0  125291.000000  153519480.0      5   31    23      15\n",
       "3156       0.0       0.0  125291.000000  153519480.0      5   31    23      30\n",
       "3157       0.0       0.0  113737.142857  153519480.0      5   31    23      45\n",
       "\n",
       "[3158 rows x 8 columns]"
      ]
     },
     "execution_count": 14,
     "metadata": {},
     "output_type": "execute_result"
    }
   ],
   "source": [
    "plant1"
   ]
  },
  {
   "cell_type": "markdown",
   "metadata": {},
   "source": [
    "# Modeling"
   ]
  },
  {
   "cell_type": "markdown",
   "metadata": {},
   "source": [
    "## Split data and find base result"
   ]
  },
  {
   "cell_type": "code",
   "execution_count": 15,
   "metadata": {
    "ExecuteTime": {
     "end_time": "2020-11-23T15:33:22.239813Z",
     "start_time": "2020-11-23T15:33:21.936515Z"
    }
   },
   "outputs": [],
   "source": [
    "from sklearn.linear_model import ElasticNet\n",
    "from sklearn.linear_model import Ridge\n",
    "from sklearn.ensemble import RandomForestRegressor\n",
    "from sklearn.model_selection import train_test_split"
   ]
  },
  {
   "cell_type": "code",
   "execution_count": 16,
   "metadata": {
    "ExecuteTime": {
     "end_time": "2020-11-23T15:33:22.271813Z",
     "start_time": "2020-11-23T15:33:22.239813Z"
    }
   },
   "outputs": [
    {
     "data": {
      "text/plain": [
       "((2526, 7), (2526,), (632, 7), (632,))"
      ]
     },
     "execution_count": 16,
     "metadata": {},
     "output_type": "execute_result"
    }
   ],
   "source": [
    "X = plant1.drop(columns=['DAILY_YIELD'], axis=1)\n",
    "y = plant1['DAILY_YIELD']\n",
    "\n",
    "X_train, X_test, y_train, y_test = train_test_split(\n",
    "    X, y, test_size=0.2, random_state=42)\n",
    "X_train.shape, y_train.shape, X_test.shape, y_test.shape"
   ]
  },
  {
   "cell_type": "code",
   "execution_count": 17,
   "metadata": {
    "ExecuteTime": {
     "end_time": "2020-11-23T15:33:22.351813Z",
     "start_time": "2020-11-23T15:33:22.271813Z"
    }
   },
   "outputs": [],
   "source": [
    "models = {\n",
    "    'Elastic Net': ElasticNet(),\n",
    "    'Ridge': Ridge(),\n",
    "    'Random Forest': RandomForestRegressor()\n",
    "}\n",
    "\n",
    "\n",
    "def fit_scores(models, X_train, X_test, y_train, y_test):\n",
    "    model_scores = {}\n",
    "    for name, model in models.items():\n",
    "        np.random.seed(42)\n",
    "        model.fit(X_train, y_train)\n",
    "        model_scores[name] = model.score(X_test, y_test)\n",
    "    return model_scores"
   ]
  },
  {
   "cell_type": "code",
   "execution_count": 18,
   "metadata": {
    "ExecuteTime": {
     "end_time": "2020-11-23T15:33:23.698137Z",
     "start_time": "2020-11-23T15:33:22.351813Z"
    }
   },
   "outputs": [
    {
     "name": "stderr",
     "output_type": "stream",
     "text": [
      "C:\\Users\\nrpra\\ML_project\\env\\lib\\site-packages\\sklearn\\linear_model\\_coordinate_descent.py:529: ConvergenceWarning: Objective did not converge. You might want to increase the number of iterations. Duality gap: 1392942230328.6929, tolerance: 1102452673.8365915\n",
      "  model = cd_fast.enet_coordinate_descent(\n"
     ]
    },
    {
     "data": {
      "text/plain": [
       "{'Elastic Net': 0.7446002487811549,\n",
       " 'Ridge': 0.7447312882996436,\n",
       " 'Random Forest': 0.9922872931056886}"
      ]
     },
     "execution_count": 18,
     "metadata": {},
     "output_type": "execute_result"
    }
   ],
   "source": [
    "base_results = fit_scores(models, X_train, X_test, y_train, y_test)\n",
    "base_results"
   ]
  },
  {
   "cell_type": "code",
   "execution_count": 19,
   "metadata": {
    "ExecuteTime": {
     "end_time": "2020-11-23T15:33:23.890625Z",
     "start_time": "2020-11-23T15:33:23.698137Z"
    }
   },
   "outputs": [
    {
     "data": {
      "text/plain": [
       "<AxesSubplot:>"
      ]
     },
     "execution_count": 19,
     "metadata": {},
     "output_type": "execute_result"
    },
    {
     "data": {
      "image/png": "[encoded data removed]",
      "text/plain": [
       "<Figure size 432x288 with 1 Axes>"
      ]
     },
     "metadata": {
      "needs_background": "light"
     },
     "output_type": "display_data"
    }
   ],
   "source": [
    "base_compare = pd.DataFrame(base_results, index=['accuracy'])\n",
    "base_compare.T.plot.barh()"
   ]
  },
  {
   "cell_type": "code",
   "execution_count": 20,
   "metadata": {
    "ExecuteTime": {
     "end_time": "2020-11-23T15:33:23.906359Z",
     "start_time": "2020-11-23T15:33:23.890625Z"
    }
   },
   "outputs": [],
   "source": [
    "# from sklearn.model_selection import RandomizedSearchCV\n",
    "\n",
    "# rcv_grid = {\n",
    "#     'n_estimators': np.arange(10, 100, 10),\n",
    "#     'max_depth': [None, 3, 5, 10],\n",
    "#     'min_samples_split': np.arange(2, 20, 2),\n",
    "#     'min_samples_leaf': np.arange(1, 20, 2),\n",
    "#     'max_features': [0.5, 1, 'sqrt', 'auto'],\n",
    "#     'max_samples': [1000]\n",
    "# }\n",
    "\n",
    "# rcv_model = RandomizedSearchCV(estimator=RandomForestRegressor(\n",
    "#     n_jobs=-1, random_state=42), param_distributions=rcv_grid, cv=5, verbose=True, n_iter=3)\n",
    "# rcv_model.fit(X_train, y_train)"
   ]
  },
  {
   "cell_type": "code",
   "execution_count": 21,
   "metadata": {
    "ExecuteTime": {
     "end_time": "2020-11-23T15:33:23.981521Z",
     "start_time": "2020-11-23T15:33:23.906359Z"
    }
   },
   "outputs": [],
   "source": [
    "# best_params = rcv_model.best_params_\n",
    "# best_params"
   ]
  },
  {
   "cell_type": "code",
   "execution_count": 22,
   "metadata": {
    "ExecuteTime": {
     "end_time": "2020-11-23T15:33:24.060935Z",
     "start_time": "2020-11-23T15:33:23.981521Z"
    }
   },
   "outputs": [],
   "source": [
    "# best_rcv = RandomForestRegressor(n_jobs=-1, random_state=42, n_estimators=best_params['n_estimators'],\n",
    "#                                 min_samples_split=best_params['min_samples_split'],\n",
    "#                                 min_samples_leaf=best_params['min_samples_leaf'],\n",
    "#                                 max_samples=best_params['max_samples'],\n",
    "#                                 max_features=best_params['max_features'],\n",
    "#                                 max_depth=best_params['max_depth'])\n",
    "# best_rcv.fit(X_train, y_train)"
   ]
  },
  {
   "cell_type": "code",
   "execution_count": 23,
   "metadata": {
    "ExecuteTime": {
     "end_time": "2020-11-23T15:33:24.148934Z",
     "start_time": "2020-11-23T15:33:24.060935Z"
    }
   },
   "outputs": [],
   "source": [
    "# best_rcv.score(X_test, y_test)"
   ]
  },
  {
   "cell_type": "markdown",
   "metadata": {},
   "source": [
    "## Elastic Net Hyperparameter Tuning with GridSearchCV"
   ]
  },
  {
   "cell_type": "code",
   "execution_count": 24,
   "metadata": {
    "ExecuteTime": {
     "end_time": "2020-11-23T15:33:39.361418Z",
     "start_time": "2020-11-23T15:33:24.148934Z"
    }
   },
   "outputs": [
    {
     "name": "stdout",
     "output_type": "stream",
     "text": [
      "Fitting 5 folds for each of 840 candidates, totalling 4200 fits\n"
     ]
    },
    {
     "name": "stderr",
     "output_type": "stream",
     "text": [
      "[Parallel(n_jobs=-1)]: Using backend LokyBackend with 4 concurrent workers.\n",
      "[Parallel(n_jobs=-1)]: Done  48 tasks      | elapsed:    2.9s\n",
      "[Parallel(n_jobs=-1)]: Done 2260 tasks      | elapsed:    9.8s\n",
      "[Parallel(n_jobs=-1)]: Done 4200 out of 4200 | elapsed:   15.0s finished\n",
      "C:\\Users\\nrpra\\ML_project\\env\\lib\\site-packages\\sklearn\\linear_model\\_coordinate_descent.py:529: ConvergenceWarning: Objective did not converge. You might want to increase the number of iterations. Duality gap: 1349388463107.715, tolerance: 1102452673.8365915\n",
      "  model = cd_fast.enet_coordinate_descent(\n"
     ]
    },
    {
     "data": {
      "text/plain": [
       "GridSearchCV(cv=5, estimator=ElasticNet(), n_jobs=-1,\n",
       "             param_grid={'alpha': [0.0001, 0.001, 0.01, 0.1, 1, 10, 100],\n",
       "                         'l1_ratio': array([0. , 0.1, 0.2, 0.3, 0.4, 0.5, 0.6, 0.7, 0.8, 0.9]),\n",
       "                         'max_iter': [1, 5, 10], 'normalize': [True, False],\n",
       "                         'selection': ['cyclic', 'random']},\n",
       "             verbose=True)"
      ]
     },
     "execution_count": 24,
     "metadata": {},
     "output_type": "execute_result"
    }
   ],
   "source": [
    "from sklearn.model_selection import RandomizedSearchCV, GridSearchCV\n",
    "\n",
    "np.random.seed(42)\n",
    "\n",
    "EN_grid = {\"max_iter\": [1, 5, 10],\n",
    "           \"alpha\": [0.0001, 0.001, 0.01, 0.1, 1, 10, 100],\n",
    "           \"l1_ratio\": np.arange(0.0, 1.0, 0.1),\n",
    "           \"normalize\": [True, False],\n",
    "           \"selection\": ['cyclic', 'random']}\n",
    "\n",
    "EN_gs = GridSearchCV(ElasticNet(), param_grid=EN_grid,\n",
    "                     cv=5, verbose=True, n_jobs=-1)\n",
    "\n",
    "EN_gs.fit(X_train, y_train)"
   ]
  },
  {
   "cell_type": "code",
   "execution_count": 25,
   "metadata": {
    "ExecuteTime": {
     "end_time": "2020-11-23T15:33:39.377418Z",
     "start_time": "2020-11-23T15:33:39.361418Z"
    }
   },
   "outputs": [
    {
     "data": {
      "text/plain": [
       "{'alpha': 0.001,\n",
       " 'l1_ratio': 0.6000000000000001,\n",
       " 'max_iter': 5,\n",
       " 'normalize': False,\n",
       " 'selection': 'random'}"
      ]
     },
     "execution_count": 25,
     "metadata": {},
     "output_type": "execute_result"
    }
   ],
   "source": [
    "EN_gs.best_params_"
   ]
  },
  {
   "cell_type": "code",
   "execution_count": 26,
   "metadata": {
    "ExecuteTime": {
     "end_time": "2020-11-23T15:33:39.545417Z",
     "start_time": "2020-11-23T15:33:39.377418Z"
    }
   },
   "outputs": [
    {
     "name": "stderr",
     "output_type": "stream",
     "text": [
      "C:\\Users\\nrpra\\ML_project\\env\\lib\\site-packages\\sklearn\\linear_model\\_coordinate_descent.py:529: ConvergenceWarning: Objective did not converge. You might want to increase the number of iterations. Duality gap: 1349388463107.715, tolerance: 1102452673.8365915\n",
      "  model = cd_fast.enet_coordinate_descent(\n"
     ]
    },
    {
     "data": {
      "text/plain": [
       "ElasticNet(alpha=0.001, l1_ratio=0.6000000000000001, max_iter=5,\n",
       "           random_state=42, selection='random')"
      ]
     },
     "execution_count": 26,
     "metadata": {},
     "output_type": "execute_result"
    }
   ],
   "source": [
    "best_EN = ElasticNet(random_state=42, **EN_gs.best_params_)\n",
    "\n",
    "best_EN.fit(X_train, y_train)"
   ]
  },
  {
   "cell_type": "code",
   "execution_count": 27,
   "metadata": {
    "ExecuteTime": {
     "end_time": "2020-11-23T15:33:39.633417Z",
     "start_time": "2020-11-23T15:33:39.545417Z"
    }
   },
   "outputs": [
    {
     "data": {
      "text/plain": [
       "0.7446766222551322"
      ]
     },
     "execution_count": 27,
     "metadata": {},
     "output_type": "execute_result"
    }
   ],
   "source": [
    "best_EN.score(X_test, y_test)"
   ]
  },
  {
   "cell_type": "markdown",
   "metadata": {},
   "source": [
    "## Elastic Net Evaluation"
   ]
  },
  {
   "cell_type": "code",
   "execution_count": 28,
   "metadata": {
    "ExecuteTime": {
     "end_time": "2020-11-23T15:33:39.801979Z",
     "start_time": "2020-11-23T15:33:39.633417Z"
    }
   },
   "outputs": [],
   "source": [
    "from sklearn.metrics import mean_squared_error, mean_absolute_error, r2_score, explained_variance_score\n",
    "\n",
    "\n",
    "def evaluate_test(model):\n",
    "    test_preds = model.predict(X_test)\n",
    "    test_scores = {\n",
    "        \"Mean Squared Error\": mean_squared_error(y_test, test_preds),\n",
    "        \"Root Mean Squared Error\": np.sqrt(mean_squared_error(y_test, test_preds)),\n",
    "        \"Mean Absolute Error\": mean_absolute_error(y_test, test_preds),\n",
    "        \"R2 Score\": r2_score(y_test, test_preds),\n",
    "        \"Explained Variance Score\": explained_variance_score(y_test, test_preds)\n",
    "    }\n",
    "    return test_scores"
   ]
  },
  {
   "cell_type": "code",
   "execution_count": 29,
   "metadata": {
    "ExecuteTime": {
     "end_time": "2020-11-23T15:33:39.981344Z",
     "start_time": "2020-11-23T15:33:39.801979Z"
    }
   },
   "outputs": [
    {
     "data": {
      "text/plain": [
       "{'Mean Squared Error': 1097513740.4997087,\n",
       " 'Root Mean Squared Error': 33128.7449279279,\n",
       " 'Mean Absolute Error': 26372.691479613673,\n",
       " 'R2 Score': 0.7446766222551322,\n",
       " 'Explained Variance Score': 0.744724298801924}"
      ]
     },
     "execution_count": 29,
     "metadata": {},
     "output_type": "execute_result"
    }
   ],
   "source": [
    "EN_eval = evaluate_test(best_EN)\n",
    "EN_eval"
   ]
  },
  {
   "cell_type": "code",
   "execution_count": 30,
   "metadata": {
    "ExecuteTime": {
     "end_time": "2020-11-23T15:33:40.204690Z",
     "start_time": "2020-11-23T15:33:39.981344Z"
    }
   },
   "outputs": [
    {
     "data": {
      "text/plain": [
       "array([149838.83408997, 116480.93730654, 158088.68304131, -27782.05477693,\n",
       "        68238.28763328,  -3086.47803943,  30142.10123421,  96224.82639847,\n",
       "       110062.44566492,  94632.32148363,  76375.30299899,  75394.22961292,\n",
       "        43790.13745441, 133649.59668174, -28750.51404198, 134912.17900555,\n",
       "        75220.92180589, 150201.78066472, 113188.35651082,  97256.79160575,\n",
       "       152731.28133532,  92756.96112735, 105541.39296504, -17579.96007849,\n",
       "         -619.09159451,  -2288.8516252 , 162810.91688303,  61077.74408745,\n",
       "        86681.37214201,  30684.29365648, 117840.67634398,  75494.24916798,\n",
       "         6249.06892703,  40724.1362114 ,  15574.90525608,  89165.15036222,\n",
       "        -8209.86334279,  72099.79122199, -27211.53929628,  92506.97918589,\n",
       "         8498.31056554, -18959.36315393, -17699.5312021 ,  42598.43490698,\n",
       "       115438.64290692, -11176.62154335,  87927.23084575, -27608.84730466,\n",
       "        58867.78052456,  12459.14535112, 110998.76574305,  22174.64874031,\n",
       "        96807.86495682, 106244.58924146, 131332.42838841,  -6810.4617885 ,\n",
       "        89470.17294601, 102492.36879136, 141130.97682466, -25053.86277742,\n",
       "        26282.37257732, 162714.53120744, 113489.53832902, 109223.02211975,\n",
       "       -18246.22801294,  47875.42372002, 124101.93023387, -26195.52951474,\n",
       "       100226.84140579,   6660.0429242 , 162374.23854945, 153571.44581485,\n",
       "       148660.58659751,  74370.47902539,  43464.6536462 , -28753.87842489,\n",
       "        92227.78537798, 165533.45918492,  49968.52784748,  65889.36972744,\n",
       "       154723.39082802,  48500.15996022, -10447.15699391,  81073.17633871,\n",
       "        73132.21115521,  54626.26952175, 101211.45362504,  29392.8043207 ,\n",
       "       162801.099088  ,  48351.91930498,  44639.14543142, 104263.90070142,\n",
       "       125966.46740877,  67080.77950571, -11876.89971994,  65032.58743471,\n",
       "       111515.06924995, 154848.93807848,  55922.41200548,  14350.24992411,\n",
       "       -20343.59015617,  77426.61290982, 149935.21976557, 150927.03153517,\n",
       "        47048.83241719,  98147.70929223, 148647.90970691, -10712.01093838,\n",
       "       106297.4605923 , -22499.74753478,  99563.12898795, 123716.57060272,\n",
       "        -9623.18113271,  -8973.17854868,   7734.99535965,  98975.41808445,\n",
       "       167923.74503308,  79804.88583208,  91999.1378627 , 102248.54186785,\n",
       "        35747.91665743, 106805.98918781,  87045.79965119, 155647.31141174,\n",
       "       102303.64453614,  32986.01480816,  87213.45590955, 153346.89543989,\n",
       "       104882.94193448, 146609.20656912,  33662.29850621,   3649.82399313,\n",
       "       167065.9444984 , 109237.42924434, 137311.97768696, 116908.58666364,\n",
       "       138308.95641887, 137916.21379519, 100215.67347558, -18706.45450256,\n",
       "       134218.85762684, 115352.30104834,  41956.92927992,  54832.77416203,\n",
       "        24540.44937195,  69151.97894396,  34209.02788938, -29530.46916836,\n",
       "        79770.73915035,  85027.86749493, 165788.45223478,  -8345.68886909,\n",
       "        74676.33742298, -20052.84275542, 113509.49681334,  22494.14786227,\n",
       "        34763.93004775, 147133.73850295, -10235.18268317, 108360.27186851,\n",
       "       153811.50604486, -28139.36400707, 130363.81670172,  28956.69088435,\n",
       "         2738.91933463,  57654.3791131 ,  80098.50397519, 154386.73920041,\n",
       "        75095.58771979, 129298.18339078,  90906.98541502,  14161.58746616,\n",
       "        15987.38557772,  99355.09725012, 121038.86216816,  95293.56150892,\n",
       "       145934.24734591,  80971.60644495,  25238.27412275,  97264.21576633,\n",
       "       -28444.77115325, 101420.39751711, 121770.26712294, -34427.70717824,\n",
       "       103748.88041604,  24541.04352649, -11879.43966943,  -1881.095729  ,\n",
       "       102319.87156974, 132641.06434419, -10642.93857937,  44682.32109702,\n",
       "       112683.32054437, 105872.25832191,   -827.52576351, 165057.656782  ,\n",
       "         3551.24197528,  97021.75687561,  23888.57185882,  92677.36384691,\n",
       "        93580.42922795,  80595.39254389, 100253.69699071,  32337.32352324,\n",
       "       155284.16620574,  13892.6275401 , 167833.87515677, 155601.85708186,\n",
       "       104509.27451104, 123240.89015619, 114957.82130511,  95523.33917677,\n",
       "        72879.96619679,  76110.34277392,  15014.12987836,  10916.60028187,\n",
       "       145331.7143055 ,  -5274.77844168,  40941.47227605, 164929.2230767 ,\n",
       "        -7695.68628505, 116068.80403401, 123599.03005737, 114145.27222916,\n",
       "       110277.35398728,   5634.29303973, 166633.57587886,  -1136.63303515,\n",
       "       138493.42788221, 151301.08617667, 138255.11961495,  24169.86587669,\n",
       "       132776.88987049,  88218.58853146, 122271.25696845,  21593.70650546,\n",
       "       -17262.68797322,  69074.32239987,  92256.10536104, -26772.00186714,\n",
       "         3918.00669792,  54134.81054911, -28585.07362827,  61061.04147239,\n",
       "       107336.70314054,  65317.67221919, 163638.2531599 ,  64228.69282238,\n",
       "        11795.26539687,  84063.56334183,  70950.46680596, 156366.4905721 ,\n",
       "        62472.77939144, 110235.45661028,  33232.74119763, -12822.29526004,\n",
       "       -25185.07312966, 165454.27555776,  16291.62214199,  92957.4572773 ,\n",
       "       119836.4523378 , -12741.07780992, 121205.23967218,  44051.88428291,\n",
       "       115734.51986449,   6457.50309603,  77338.96033049,   5939.96165539,\n",
       "        69135.79776716,  95598.41234495, 102584.64364287,  13517.45786608,\n",
       "        16153.65984343, 108474.88303092, 102201.11631687,  13470.07671559,\n",
       "       113621.42935784,  89229.93878297,  36359.91640857, 134054.38213411,\n",
       "       -35705.19944186,  29007.45507289, 123289.28038078, 110551.09388948,\n",
       "       156657.23797285, 147092.9797158 ,  89285.78545526,  74871.08633027,\n",
       "       105466.0786281 , -30853.83448895,  62676.7115218 ,  99836.73179147,\n",
       "        79004.09886917, -11512.67494679,  16072.44239332, -19530.70849751,\n",
       "        41631.62267253, 156394.6892509 , -21223.76336469,  60692.76901707,\n",
       "        67509.57944582,  69107.22592477,  80637.10915718, 124382.2989841 ,\n",
       "       -20396.42708781,  80282.01730642, 155426.07756421,   6106.22650252,\n",
       "        97896.40366216, 114886.55592086, 113064.05635399, 163634.888777  ,\n",
       "       121899.90269623,  23307.59387211,  54863.39293427, -18490.864737  ,\n",
       "        13185.36114255,  23411.68317286, 122528.05094097,  20798.896567  ,\n",
       "       110004.87744956,  78074.77395526,  44908.09359262,  95790.89046357,\n",
       "        88180.10551813,  93236.2871736 , -12869.67641053,  58013.7864392 ,\n",
       "       -24505.55692948, 123147.41030953, 110780.65349982,  78783.36439321,\n",
       "        -7598.71330788,  42073.11245953,  38920.93444067, 155790.51282848,\n",
       "        82600.96474367,  92649.89892294, 150357.77059007, 104680.02843878,\n",
       "       105621.19592602, -12790.16721041,  94207.88912867,  95126.99468542,\n",
       "        23627.66458735, 148411.23076657, 117012.24913179,  31590.27807666,\n",
       "       145457.4190907 , 115580.6376422 , -19882.25003008,  69727.9812856 ,\n",
       "        30272.63072811, -26756.30489246, 111533.10746984,  80053.37233416,\n",
       "        41752.61075677,  55373.61184914, 144881.44134708, -17230.29252567,\n",
       "        26336.92253597, -19523.72027656,  62061.15591757,  55407.96030774,\n",
       "       138575.99229741,  38664.61130204,  23309.56452781, 115816.20214648,\n",
       "       110936.13036654,  81064.71863521, -28049.49413076,   -260.56184099,\n",
       "       102867.65041349, 138717.90365588,  44829.99375658,  24259.87702179,\n",
       "       122012.96301688,  54045.61520658,  71956.39613964,  21199.05746339,\n",
       "        61975.37221353, 138738.89276164,   5115.98976142, 140863.94094611,\n",
       "       -18827.36250393, 123945.40950639,   7822.59344198, 137502.15928516,\n",
       "        60761.05532498,  95968.31359522,  24244.0954061 ,  79464.01585711,\n",
       "       105018.84452765,  96075.23600971,  71692.17272504, 162278.19648108,\n",
       "        12086.01279761,  70384.71818839,  21984.33128805, 110748.36589737,\n",
       "       156726.13396209,  80848.36751959, 162610.29320461, 139850.12017813,\n",
       "        24280.20813806,  72648.56546731, 104148.30662082,  68098.94708415,\n",
       "       139853.48456103, 103077.45205756,  89685.21978483,  24079.62269397,\n",
       "         5366.8536859 ,  14908.56302737, 116324.2522332 ,  40084.73206975,\n",
       "       150762.55604244,  55190.99726501,  97247.78618793,  91932.99814325,\n",
       "        55268.7336712 ,   3315.4736575 , 117233.4686388 , 165494.50001087,\n",
       "        -1320.4919506 ,  43396.28551055, 130054.93612479,   7921.83821314,\n",
       "       -11031.88374857, -12868.168317  , 111372.56162309,  91881.06126302,\n",
       "       112372.85432316, 165011.32492701, -10186.09328268, 120887.49362826,\n",
       "       106891.12598264,  86835.43753351,   3201.1182127 , 140359.83118378,\n",
       "       165165.27773186,  77655.28722141, 138572.62791451,  20093.15103648,\n",
       "       -20233.52662359,  36890.36641159,  -3109.49859214,  95064.56604376,\n",
       "        15866.47757635, 103424.57033728, 131499.39760687,  99963.89255721,\n",
       "       -12178.16565995,  54305.209831  ,  73318.52933861, -16151.46997531,\n",
       "       150626.73051614, -15952.80026205, 117477.03282988,  99112.52399933,\n",
       "        13363.50506124, 117494.57497341,  37828.64370226,  52154.99175511,\n",
       "       146369.30387386,  48415.12938526,  -1998.28059423, 100098.87555774,\n",
       "       123558.21283883, 123062.74623751,  77239.72498591,  85216.25483796,\n",
       "        21714.84062452,  26595.05435149,  16089.08231382, -18667.27074392,\n",
       "        10624.50787186, -19679.71020191, 113281.0533267 , 102128.62536863,\n",
       "         6953.78242338,  58618.20866658,  71919.64241242,  53007.49058947,\n",
       "       -28220.84885512, 117995.23937086, 155734.32219249, 122245.14674823,\n",
       "       110431.35440801, 154169.57440634,  48162.39144344,  46487.18619624,\n",
       "        98504.99982175,  17264.87784134, 100046.07624511,  25646.25828894,\n",
       "        54156.19611489, 158156.8416091 ,  75247.16401231,  22071.44032922,\n",
       "        33272.48459645, 129384.75127134, -22607.82728266,  95029.04120989,\n",
       "        82510.66747725,  34771.64576745, 137461.40049802,  43481.37212136,\n",
       "        84582.93002243,  80273.97240697, 116854.04585657, 111930.80602739,\n",
       "       141295.45231739, 102072.6586785 , 100821.7692927 ,  70609.40388039,\n",
       "       108932.32380858,  55264.80420908,  33554.61200245,  14294.04860956,\n",
       "        53158.40366583,  -4715.64095738,  78526.52322596, -29710.31542948,\n",
       "       130386.38083598,  -2067.17658347, 107388.93761793, 109129.64773062,\n",
       "        99640.55765291, 157643.98283572,  -3546.34182102, 110178.14429865,\n",
       "       132609.92065203,  34785.04400645,  84507.41240499, 120880.21575675,\n",
       "       -19768.35700062,   3990.11665112,  76183.82061532,  77311.25178371,\n",
       "        32666.70452254, 140306.49964335,  41428.24439057,  85743.40677879,\n",
       "       -11698.75580126, 123663.46383073,  90219.37905346, 132078.15219422,\n",
       "       112431.984331  ,  91494.57595944, 140057.1438124 ,  67320.93814476,\n",
       "        55712.49170708, -18402.21793829, 146525.29379921,  96469.8827947 ,\n",
       "       146102.7429747 ,  93734.95583431, 163077.47778218,  80872.38739557,\n",
       "         4983.5246508 , 105940.03159882, 166442.76999548, 145666.06464113,\n",
       "       115924.95036354, 101147.90809215, -13392.70025082,  88237.16763187,\n",
       "       138140.76417015,  88661.72142263, -18953.49441049, -20078.73621169,\n",
       "       147646.79613748,  22902.05963006,  62291.34005858, 163802.72865263,\n",
       "       -27310.12131413,  15892.59613221,    286.13496985,  21835.28852998,\n",
       "        74126.06910753, 122975.44718294,  14747.56897921, 105562.2399428 ,\n",
       "       154879.38075337,  13598.67531619, -24306.88721621, 141484.74713581,\n",
       "        56751.36208646, 165295.81068181, 149734.59608715,   7799.57288927,\n",
       "        34271.26779834,  40304.80811452, 115044.84413397, 123174.03091413,\n",
       "        60525.42707688,  31918.46080894,  91242.62430928, -25877.83863861,\n",
       "        98543.82344912,  77862.83078942, 110676.91390248,  34499.66683973,\n",
       "        21823.00153129,  15880.64814482, 129786.67721598, -26844.95169116,\n",
       "        16275.9251673 ,  53620.64514022,  89720.75296776,  94703.8177264 ,\n",
       "        70762.72927654, 150904.46740091, 122147.91142076, -11544.80299641,\n",
       "        82759.10894338, 139292.70918331, 157703.32520668,  30608.40133924,\n",
       "       -21095.16476409,  54104.8131186 ,  35183.99255149,  22267.67239173,\n",
       "        84960.87317384, 165233.43629965, 115301.64187395, 131663.8730996 ,\n",
       "       109687.32565709, -21746.78720499, 162978.47465768, -10063.82795881])"
      ]
     },
     "execution_count": 30,
     "metadata": {},
     "output_type": "execute_result"
    }
   ],
   "source": [
    "test_preds = best_EN.predict(X_test)\n",
    "test_preds"
   ]
  },
  {
   "cell_type": "code",
   "execution_count": 31,
   "metadata": {
    "ExecuteTime": {
     "end_time": "2020-11-23T15:33:40.342403Z",
     "start_time": "2020-11-23T15:33:40.204690Z"
    }
   },
   "outputs": [
    {
     "data": {
      "text/html": [
       "<div>\n",
       "<style scoped>\n",
       "    .dataframe tbody tr th:only-of-type {\n",
       "        vertical-align: middle;\n",
       "    }\n",
       "\n",
       "    .dataframe tbody tr th {\n",
       "        vertical-align: top;\n",
       "    }\n",
       "\n",
       "    .dataframe thead th {\n",
       "        text-align: right;\n",
       "    }\n",
       "</style>\n",
       "<table border=\"1\" class=\"dataframe\">\n",
       "  <thead>\n",
       "    <tr style=\"text-align: right;\">\n",
       "      <th></th>\n",
       "      <th>Actual values</th>\n",
       "      <th>Predict values</th>\n",
       "      <th>differences</th>\n",
       "    </tr>\n",
       "  </thead>\n",
       "  <tbody>\n",
       "    <tr>\n",
       "      <th>3053</th>\n",
       "      <td>159056.000000</td>\n",
       "      <td>149838.834090</td>\n",
       "      <td>-9217.165910</td>\n",
       "    </tr>\n",
       "    <tr>\n",
       "      <th>2681</th>\n",
       "      <td>169895.178571</td>\n",
       "      <td>116480.937307</td>\n",
       "      <td>-53414.241264</td>\n",
       "    </tr>\n",
       "    <tr>\n",
       "      <th>2961</th>\n",
       "      <td>80126.000000</td>\n",
       "      <td>158088.683041</td>\n",
       "      <td>77962.683041</td>\n",
       "    </tr>\n",
       "    <tr>\n",
       "      <th>2335</th>\n",
       "      <td>0.000000</td>\n",
       "      <td>-27782.054777</td>\n",
       "      <td>-27782.054777</td>\n",
       "    </tr>\n",
       "    <tr>\n",
       "      <th>139</th>\n",
       "      <td>54073.571429</td>\n",
       "      <td>68238.287633</td>\n",
       "      <td>14164.716204</td>\n",
       "    </tr>\n",
       "    <tr>\n",
       "      <th>...</th>\n",
       "      <td>...</td>\n",
       "      <td>...</td>\n",
       "      <td>...</td>\n",
       "    </tr>\n",
       "    <tr>\n",
       "      <th>1229</th>\n",
       "      <td>185308.000000</td>\n",
       "      <td>131663.873100</td>\n",
       "      <td>-53644.126900</td>\n",
       "    </tr>\n",
       "    <tr>\n",
       "      <th>2488</th>\n",
       "      <td>166298.500000</td>\n",
       "      <td>109687.325657</td>\n",
       "      <td>-56611.174343</td>\n",
       "    </tr>\n",
       "    <tr>\n",
       "      <th>2522</th>\n",
       "      <td>0.000000</td>\n",
       "      <td>-21746.787205</td>\n",
       "      <td>-21746.787205</td>\n",
       "    </tr>\n",
       "    <tr>\n",
       "      <th>2234</th>\n",
       "      <td>108152.000000</td>\n",
       "      <td>162978.474658</td>\n",
       "      <td>54826.474658</td>\n",
       "    </tr>\n",
       "    <tr>\n",
       "      <th>1822</th>\n",
       "      <td>0.000000</td>\n",
       "      <td>-10063.827959</td>\n",
       "      <td>-10063.827959</td>\n",
       "    </tr>\n",
       "  </tbody>\n",
       "</table>\n",
       "<p>632 rows × 3 columns</p>\n",
       "</div>"
      ],
      "text/plain": [
       "      Actual values  Predict values   differences\n",
       "3053  159056.000000   149838.834090  -9217.165910\n",
       "2681  169895.178571   116480.937307 -53414.241264\n",
       "2961   80126.000000   158088.683041  77962.683041\n",
       "2335       0.000000   -27782.054777 -27782.054777\n",
       "139    54073.571429    68238.287633  14164.716204\n",
       "...             ...             ...           ...\n",
       "1229  185308.000000   131663.873100 -53644.126900\n",
       "2488  166298.500000   109687.325657 -56611.174343\n",
       "2522       0.000000   -21746.787205 -21746.787205\n",
       "2234  108152.000000   162978.474658  54826.474658\n",
       "1822       0.000000   -10063.827959 -10063.827959\n",
       "\n",
       "[632 rows x 3 columns]"
      ]
     },
     "execution_count": 31,
     "metadata": {},
     "output_type": "execute_result"
    }
   ],
   "source": [
    "EN_compare = pd.DataFrame(data={\n",
    "    \"Actual values\": y_test,\n",
    "    \"Predict values\": test_preds\n",
    "})\n",
    "EN_compare['differences'] = EN_compare['Predict values'] - \\\n",
    "    EN_compare['Actual values']\n",
    "EN_compare"
   ]
  },
  {
   "cell_type": "code",
   "execution_count": 32,
   "metadata": {
    "ExecuteTime": {
     "end_time": "2020-11-23T15:33:40.514718Z",
     "start_time": "2020-11-23T15:33:40.342403Z"
    }
   },
   "outputs": [
    {
     "data": {
      "text/plain": [
       "0.7302098776852041"
      ]
     },
     "execution_count": 32,
     "metadata": {},
     "output_type": "execute_result"
    }
   ],
   "source": [
    "from sklearn.model_selection import cross_val_score\n",
    "np.random.seed(42)\n",
    "cv_EN = cross_val_score(best_EN, X, y, cv=10, scoring='r2', n_jobs=-1)\n",
    "np.mean(cv_EN)"
   ]
  },
  {
   "cell_type": "markdown",
   "metadata": {},
   "source": [
    "## Ridge Hyperparameter Tuning with Grid SearchCV"
   ]
  },
  {
   "cell_type": "code",
   "execution_count": 33,
   "metadata": {
    "ExecuteTime": {
     "end_time": "2020-11-23T15:33:52.637986Z",
     "start_time": "2020-11-23T15:33:40.514718Z"
    }
   },
   "outputs": [
    {
     "name": "stdout",
     "output_type": "stream",
     "text": [
      "Fitting 5 folds for each of 72 candidates, totalling 360 fits\n"
     ]
    },
    {
     "name": "stderr",
     "output_type": "stream",
     "text": [
      "[Parallel(n_jobs=-1)]: Using backend LokyBackend with 4 concurrent workers.\n",
      "[Parallel(n_jobs=-1)]: Done 128 tasks      | elapsed:    2.9s\n",
      "[Parallel(n_jobs=-1)]: Done 360 out of 360 | elapsed:   11.9s finished\n"
     ]
    },
    {
     "data": {
      "text/plain": [
       "GridSearchCV(cv=5, estimator=Ridge(), n_jobs=-1,\n",
       "             param_grid={'alpha': [1, 0.1, 0.01, 0.001, 0.0001, 0],\n",
       "                         'fit_intercept': [True, False],\n",
       "                         'solver': ['svd', 'cholesky', 'lsqr', 'sparse_cg',\n",
       "                                    'sag', 'saga']},\n",
       "             verbose=True)"
      ]
     },
     "execution_count": 33,
     "metadata": {},
     "output_type": "execute_result"
    }
   ],
   "source": [
    "ridge_grid = {'alpha': [1, 0.1, 0.01, 0.001, 0.0001, 0], \"fit_intercept\": [\n",
    "    True, False], \"solver\": ['svd', 'cholesky', 'lsqr', 'sparse_cg', 'sag', 'saga']}\n",
    "\n",
    "ridge_gs = GridSearchCV(\n",
    "    Ridge(), n_jobs=-1, param_grid=ridge_grid, cv=5, verbose=True)\n",
    "\n",
    "ridge_gs.fit(X_train, y_train)"
   ]
  },
  {
   "cell_type": "code",
   "execution_count": 34,
   "metadata": {
    "ExecuteTime": {
     "end_time": "2020-11-23T15:33:52.653987Z",
     "start_time": "2020-11-23T15:33:52.637986Z"
    }
   },
   "outputs": [
    {
     "data": {
      "text/plain": [
       "{'alpha': 1, 'fit_intercept': True, 'solver': 'cholesky'}"
      ]
     },
     "execution_count": 34,
     "metadata": {},
     "output_type": "execute_result"
    }
   ],
   "source": [
    "ridge_gs.best_params_"
   ]
  },
  {
   "cell_type": "code",
   "execution_count": 35,
   "metadata": {
    "ExecuteTime": {
     "end_time": "2020-11-23T15:33:52.750987Z",
     "start_time": "2020-11-23T15:33:52.653987Z"
    }
   },
   "outputs": [
    {
     "data": {
      "text/plain": [
       "Ridge(alpha=1, random_state=42, solver='cholesky')"
      ]
     },
     "execution_count": 35,
     "metadata": {},
     "output_type": "execute_result"
    }
   ],
   "source": [
    "best_ridge = Ridge(\n",
    "    random_state=42, **ridge_gs.best_params_)\n",
    "\n",
    "best_ridge.fit(X_train, y_train)"
   ]
  },
  {
   "cell_type": "code",
   "execution_count": 36,
   "metadata": {
    "ExecuteTime": {
     "end_time": "2020-11-23T15:33:52.830986Z",
     "start_time": "2020-11-23T15:33:52.750987Z"
    }
   },
   "outputs": [
    {
     "data": {
      "text/plain": [
       "0.7447312882996436"
      ]
     },
     "execution_count": 36,
     "metadata": {},
     "output_type": "execute_result"
    }
   ],
   "source": [
    "best_ridge.score(X_test, y_test)"
   ]
  },
  {
   "cell_type": "markdown",
   "metadata": {},
   "source": [
    "## Ridge Evaluation"
   ]
  },
  {
   "cell_type": "code",
   "execution_count": 37,
   "metadata": {
    "ExecuteTime": {
     "end_time": "2020-11-23T15:33:52.923452Z",
     "start_time": "2020-11-23T15:33:52.834311Z"
    }
   },
   "outputs": [
    {
     "data": {
      "text/plain": [
       "{'Mean Squared Error': 1097278757.1796541,\n",
       " 'Root Mean Squared Error': 33125.198220986604,\n",
       " 'Mean Absolute Error': 26337.33395465154,\n",
       " 'R2 Score': 0.7447312882996436,\n",
       " 'Explained Variance Score': 0.7447836770868876}"
      ]
     },
     "execution_count": 37,
     "metadata": {},
     "output_type": "execute_result"
    }
   ],
   "source": [
    "ridge_eval = evaluate_test(best_ridge)\n",
    "ridge_eval"
   ]
  },
  {
   "cell_type": "code",
   "execution_count": 38,
   "metadata": {
    "ExecuteTime": {
     "end_time": "2020-11-23T15:33:53.007299Z",
     "start_time": "2020-11-23T15:33:52.923452Z"
    }
   },
   "outputs": [
    {
     "data": {
      "text/plain": [
       "79536.79976980192"
      ]
     },
     "execution_count": 38,
     "metadata": {},
     "output_type": "execute_result"
    }
   ],
   "source": [
    "test_preds2 = best_ridge.predict(X_test)\n",
    "np.median(test_preds2)"
   ]
  },
  {
   "cell_type": "code",
   "execution_count": 39,
   "metadata": {
    "ExecuteTime": {
     "end_time": "2020-11-23T15:33:53.104541Z",
     "start_time": "2020-11-23T15:33:53.007299Z"
    }
   },
   "outputs": [
    {
     "data": {
      "text/html": [
       "<div>\n",
       "<style scoped>\n",
       "    .dataframe tbody tr th:only-of-type {\n",
       "        vertical-align: middle;\n",
       "    }\n",
       "\n",
       "    .dataframe tbody tr th {\n",
       "        vertical-align: top;\n",
       "    }\n",
       "\n",
       "    .dataframe thead th {\n",
       "        text-align: right;\n",
       "    }\n",
       "</style>\n",
       "<table border=\"1\" class=\"dataframe\">\n",
       "  <thead>\n",
       "    <tr style=\"text-align: right;\">\n",
       "      <th></th>\n",
       "      <th>actual values</th>\n",
       "      <th>predict values</th>\n",
       "      <th>differences</th>\n",
       "    </tr>\n",
       "  </thead>\n",
       "  <tbody>\n",
       "    <tr>\n",
       "      <th>3053</th>\n",
       "      <td>159056.000000</td>\n",
       "      <td>150152.515170</td>\n",
       "      <td>-8903.484830</td>\n",
       "    </tr>\n",
       "    <tr>\n",
       "      <th>2681</th>\n",
       "      <td>169895.178571</td>\n",
       "      <td>114505.660448</td>\n",
       "      <td>-55389.518123</td>\n",
       "    </tr>\n",
       "    <tr>\n",
       "      <th>2961</th>\n",
       "      <td>80126.000000</td>\n",
       "      <td>158405.906556</td>\n",
       "      <td>78279.906556</td>\n",
       "    </tr>\n",
       "    <tr>\n",
       "      <th>2335</th>\n",
       "      <td>0.000000</td>\n",
       "      <td>-27419.929580</td>\n",
       "      <td>-27419.929580</td>\n",
       "    </tr>\n",
       "    <tr>\n",
       "      <th>139</th>\n",
       "      <td>54073.571429</td>\n",
       "      <td>67422.717524</td>\n",
       "      <td>13349.146095</td>\n",
       "    </tr>\n",
       "    <tr>\n",
       "      <th>...</th>\n",
       "      <td>...</td>\n",
       "      <td>...</td>\n",
       "      <td>...</td>\n",
       "    </tr>\n",
       "    <tr>\n",
       "      <th>1229</th>\n",
       "      <td>185308.000000</td>\n",
       "      <td>132104.227870</td>\n",
       "      <td>-53203.772130</td>\n",
       "    </tr>\n",
       "    <tr>\n",
       "      <th>2488</th>\n",
       "      <td>166298.500000</td>\n",
       "      <td>108140.087214</td>\n",
       "      <td>-58158.412786</td>\n",
       "    </tr>\n",
       "    <tr>\n",
       "      <th>2522</th>\n",
       "      <td>0.000000</td>\n",
       "      <td>-21376.282064</td>\n",
       "      <td>-21376.282064</td>\n",
       "    </tr>\n",
       "    <tr>\n",
       "      <th>2234</th>\n",
       "      <td>108152.000000</td>\n",
       "      <td>163344.556214</td>\n",
       "      <td>55192.556214</td>\n",
       "    </tr>\n",
       "    <tr>\n",
       "      <th>1822</th>\n",
       "      <td>0.000000</td>\n",
       "      <td>-9630.993824</td>\n",
       "      <td>-9630.993824</td>\n",
       "    </tr>\n",
       "  </tbody>\n",
       "</table>\n",
       "<p>632 rows × 3 columns</p>\n",
       "</div>"
      ],
      "text/plain": [
       "      actual values  predict values   differences\n",
       "3053  159056.000000   150152.515170  -8903.484830\n",
       "2681  169895.178571   114505.660448 -55389.518123\n",
       "2961   80126.000000   158405.906556  78279.906556\n",
       "2335       0.000000   -27419.929580 -27419.929580\n",
       "139    54073.571429    67422.717524  13349.146095\n",
       "...             ...             ...           ...\n",
       "1229  185308.000000   132104.227870 -53203.772130\n",
       "2488  166298.500000   108140.087214 -58158.412786\n",
       "2522       0.000000   -21376.282064 -21376.282064\n",
       "2234  108152.000000   163344.556214  55192.556214\n",
       "1822       0.000000    -9630.993824  -9630.993824\n",
       "\n",
       "[632 rows x 3 columns]"
      ]
     },
     "execution_count": 39,
     "metadata": {},
     "output_type": "execute_result"
    }
   ],
   "source": [
    "ridge_compare = pd.DataFrame({\n",
    "    \"actual values\": y_test,\n",
    "    \"predict values\": test_preds2\n",
    "})\n",
    "\n",
    "ridge_compare['differences'] = ridge_compare['predict values'] - \\\n",
    "    ridge_compare['actual values']\n",
    "ridge_compare"
   ]
  },
  {
   "cell_type": "code",
   "execution_count": 40,
   "metadata": {
    "ExecuteTime": {
     "end_time": "2020-11-23T15:33:53.720850Z",
     "start_time": "2020-11-23T15:33:53.104541Z"
    }
   },
   "outputs": [
    {
     "data": {
      "image/png": "[encoded data removed]",
      "text/plain": [
       "<Figure size 1500x500 with 1 Axes>"
      ]
     },
     "metadata": {
      "needs_background": "light"
     },
     "output_type": "display_data"
    }
   ],
   "source": [
    "plt.figure(dpi=100, figsize=(15,5))\n",
    "sns.regplot(x='actual values', y='predict values', data=ridge_compare)\n",
    "plt.title('Regression Plot')\n",
    "plt.show()"
   ]
  },
  {
   "cell_type": "code",
   "execution_count": 41,
   "metadata": {
    "ExecuteTime": {
     "end_time": "2020-11-23T15:33:53.800930Z",
     "start_time": "2020-11-23T15:33:53.720850Z"
    }
   },
   "outputs": [
    {
     "data": {
      "text/plain": [
       "0.730370414882213"
      ]
     },
     "execution_count": 41,
     "metadata": {},
     "output_type": "execute_result"
    }
   ],
   "source": [
    "np.random.seed(42)\n",
    "cv_ridge = cross_val_score(best_ridge, X, y, cv=10, scoring='r2', n_jobs=-1)\n",
    "np.mean(cv_ridge)"
   ]
  },
  {
   "cell_type": "markdown",
   "metadata": {},
   "source": [
    "## Random Forest Regressor Evaluation"
   ]
  },
  {
   "cell_type": "code",
   "execution_count": 42,
   "metadata": {
    "ExecuteTime": {
     "end_time": "2020-11-23T15:33:54.250032Z",
     "start_time": "2020-11-23T15:33:53.800930Z"
    }
   },
   "outputs": [
    {
     "data": {
      "text/plain": [
       "RandomForestRegressor(n_jobs=-1, random_state=42)"
      ]
     },
     "execution_count": 42,
     "metadata": {},
     "output_type": "execute_result"
    }
   ],
   "source": [
    "rfr = RandomForestRegressor(n_jobs=-1, random_state=42)\n",
    "rfr.fit(X_train, y_train)"
   ]
  },
  {
   "cell_type": "code",
   "execution_count": 43,
   "metadata": {
    "ExecuteTime": {
     "end_time": "2020-11-23T15:33:54.282040Z",
     "start_time": "2020-11-23T15:33:54.250032Z"
    }
   },
   "outputs": [
    {
     "data": {
      "text/plain": [
       "{'Mean Squared Error': 33153257.910491854,\n",
       " 'Root Mean Squared Error': 5757.88658367737,\n",
       " 'Mean Absolute Error': 2529.638103641971,\n",
       " 'R2 Score': 0.9922872931056886,\n",
       " 'Explained Variance Score': 0.9923063681282469}"
      ]
     },
     "execution_count": 43,
     "metadata": {},
     "output_type": "execute_result"
    }
   ],
   "source": [
    "rfr_eval = evaluate_test(rfr)\n",
    "rfr_eval"
   ]
  },
  {
   "cell_type": "code",
   "execution_count": 44,
   "metadata": {
    "ExecuteTime": {
     "end_time": "2020-11-23T15:33:54.360297Z",
     "start_time": "2020-11-23T15:33:54.282040Z"
    }
   },
   "outputs": [
    {
     "data": {
      "text/plain": [
       "68295.07443469003"
      ]
     },
     "execution_count": 44,
     "metadata": {},
     "output_type": "execute_result"
    }
   ],
   "source": [
    "test_preds3 = rfr.predict(X_test)\n",
    "np.median(test_preds3)"
   ]
  },
  {
   "cell_type": "code",
   "execution_count": 45,
   "metadata": {
    "ExecuteTime": {
     "end_time": "2020-11-23T15:33:54.436199Z",
     "start_time": "2020-11-23T15:33:54.360297Z"
    }
   },
   "outputs": [
    {
     "data": {
      "text/html": [
       "<div>\n",
       "<style scoped>\n",
       "    .dataframe tbody tr th:only-of-type {\n",
       "        vertical-align: middle;\n",
       "    }\n",
       "\n",
       "    .dataframe tbody tr th {\n",
       "        vertical-align: top;\n",
       "    }\n",
       "\n",
       "    .dataframe thead th {\n",
       "        text-align: right;\n",
       "    }\n",
       "</style>\n",
       "<table border=\"1\" class=\"dataframe\">\n",
       "  <thead>\n",
       "    <tr style=\"text-align: right;\">\n",
       "      <th></th>\n",
       "      <th>actual values</th>\n",
       "      <th>predict values</th>\n",
       "      <th>diff</th>\n",
       "    </tr>\n",
       "  </thead>\n",
       "  <tbody>\n",
       "    <tr>\n",
       "      <th>3053</th>\n",
       "      <td>159056.000000</td>\n",
       "      <td>157115.900000</td>\n",
       "      <td>-1940.100000</td>\n",
       "    </tr>\n",
       "    <tr>\n",
       "      <th>2681</th>\n",
       "      <td>169895.178571</td>\n",
       "      <td>164870.657500</td>\n",
       "      <td>-5024.521071</td>\n",
       "    </tr>\n",
       "    <tr>\n",
       "      <th>2961</th>\n",
       "      <td>80126.000000</td>\n",
       "      <td>80126.000000</td>\n",
       "      <td>0.000000</td>\n",
       "    </tr>\n",
       "    <tr>\n",
       "      <th>2335</th>\n",
       "      <td>0.000000</td>\n",
       "      <td>0.000000</td>\n",
       "      <td>0.000000</td>\n",
       "    </tr>\n",
       "    <tr>\n",
       "      <th>139</th>\n",
       "      <td>54073.571429</td>\n",
       "      <td>45876.530714</td>\n",
       "      <td>-8197.040715</td>\n",
       "    </tr>\n",
       "    <tr>\n",
       "      <th>...</th>\n",
       "      <td>...</td>\n",
       "      <td>...</td>\n",
       "      <td>...</td>\n",
       "    </tr>\n",
       "    <tr>\n",
       "      <th>1229</th>\n",
       "      <td>185308.000000</td>\n",
       "      <td>184337.116786</td>\n",
       "      <td>-970.883214</td>\n",
       "    </tr>\n",
       "    <tr>\n",
       "      <th>2488</th>\n",
       "      <td>166298.500000</td>\n",
       "      <td>167757.500357</td>\n",
       "      <td>1459.000357</td>\n",
       "    </tr>\n",
       "    <tr>\n",
       "      <th>2522</th>\n",
       "      <td>0.000000</td>\n",
       "      <td>0.000000</td>\n",
       "      <td>0.000000</td>\n",
       "    </tr>\n",
       "    <tr>\n",
       "      <th>2234</th>\n",
       "      <td>108152.000000</td>\n",
       "      <td>108152.000000</td>\n",
       "      <td>0.000000</td>\n",
       "    </tr>\n",
       "    <tr>\n",
       "      <th>1822</th>\n",
       "      <td>0.000000</td>\n",
       "      <td>0.000000</td>\n",
       "      <td>0.000000</td>\n",
       "    </tr>\n",
       "  </tbody>\n",
       "</table>\n",
       "<p>632 rows × 3 columns</p>\n",
       "</div>"
      ],
      "text/plain": [
       "      actual values  predict values         diff\n",
       "3053  159056.000000   157115.900000 -1940.100000\n",
       "2681  169895.178571   164870.657500 -5024.521071\n",
       "2961   80126.000000    80126.000000     0.000000\n",
       "2335       0.000000        0.000000     0.000000\n",
       "139    54073.571429    45876.530714 -8197.040715\n",
       "...             ...             ...          ...\n",
       "1229  185308.000000   184337.116786  -970.883214\n",
       "2488  166298.500000   167757.500357  1459.000357\n",
       "2522       0.000000        0.000000     0.000000\n",
       "2234  108152.000000   108152.000000     0.000000\n",
       "1822       0.000000        0.000000     0.000000\n",
       "\n",
       "[632 rows x 3 columns]"
      ]
     },
     "execution_count": 45,
     "metadata": {},
     "output_type": "execute_result"
    }
   ],
   "source": [
    "rfr_compare = pd.DataFrame({\n",
    "    \"actual values\": y_test,\n",
    "    \"predict values\": test_preds3\n",
    "})\n",
    "\n",
    "rfr_compare['diff'] = rfr_compare['predict values'] - rfr_compare['actual values']\n",
    "rfr_compare"
   ]
  },
  {
   "cell_type": "code",
   "execution_count": 46,
   "metadata": {
    "ExecuteTime": {
     "end_time": "2020-11-23T15:33:54.868060Z",
     "start_time": "2020-11-23T15:33:54.437386Z"
    }
   },
   "outputs": [
    {
     "data": {
      "image/png": "[encoded data removed]",
      "text/plain": [
       "<Figure size 1500x500 with 1 Axes>"
      ]
     },
     "metadata": {
      "needs_background": "light"
     },
     "output_type": "display_data"
    }
   ],
   "source": [
    "plt.figure(dpi=100, figsize=(15,5))\n",
    "sns.regplot(x='actual values', y='predict values', data=rfr_compare)\n",
    "plt.title('Regression Plot')\n",
    "plt.show()"
   ]
  },
  {
   "cell_type": "code",
   "execution_count": 47,
   "metadata": {
    "ExecuteTime": {
     "end_time": "2020-11-23T15:34:28.222908Z",
     "start_time": "2020-11-23T15:33:54.868060Z"
    }
   },
   "outputs": [
    {
     "name": "stdout",
     "output_type": "stream",
     "text": [
      "Fitting 10 folds for each of 30 candidates, totalling 300 fits\n"
     ]
    },
    {
     "name": "stderr",
     "output_type": "stream",
     "text": [
      "[Parallel(n_jobs=1)]: Using backend SequentialBackend with 1 concurrent workers.\n",
      "[Parallel(n_jobs=1)]: Done 300 out of 300 | elapsed:   33.1s finished\n"
     ]
    },
    {
     "data": {
      "text/plain": [
       "RandomizedSearchCV(cv=10,\n",
       "                   estimator=RandomForestRegressor(n_jobs=-1, random_state=42),\n",
       "                   n_iter=30,\n",
       "                   param_distributions={'max_depth': [None, 3, 5, 10],\n",
       "                                        'max_features': [0.5, 1, 'sqrt',\n",
       "                                                         'auto'],\n",
       "                                        'min_samples_leaf': array([ 1,  3,  5,  7,  9, 11, 13, 15, 17, 19]),\n",
       "                                        'min_samples_split': array([ 2,  4,  6,  8, 10, 12, 14, 16, 18]),\n",
       "                                        'n_estimators': array([10, 20, 30, 40, 50, 60, 70, 80, 90])},\n",
       "                   verbose=True)"
      ]
     },
     "execution_count": 47,
     "metadata": {},
     "output_type": "execute_result"
    }
   ],
   "source": [
    "rcv_grid = {\n",
    "    'n_estimators': np.arange(10, 100, 10),\n",
    "    'max_depth': [None, 3, 5, 10],\n",
    "    'min_samples_split': np.arange(2, 20, 2),\n",
    "    'min_samples_leaf': np.arange(1, 20, 2),\n",
    "    'max_features': [0.5, 1, 'sqrt', 'auto']\n",
    "}\n",
    "\n",
    "rfr_rcv = RandomizedSearchCV(estimator=RandomForestRegressor(\n",
    "    n_jobs=-1, random_state=42), param_distributions=rcv_grid, cv=10, verbose=True, n_iter=30)\n",
    "rfr_rcv.fit(X_train, y_train)"
   ]
  },
  {
   "cell_type": "code",
   "execution_count": 48,
   "metadata": {
    "ExecuteTime": {
     "end_time": "2020-11-23T15:34:28.238919Z",
     "start_time": "2020-11-23T15:34:28.222908Z"
    }
   },
   "outputs": [
    {
     "data": {
      "text/plain": [
       "{'n_estimators': 40,\n",
       " 'min_samples_split': 2,\n",
       " 'min_samples_leaf': 1,\n",
       " 'max_features': 'auto',\n",
       " 'max_depth': None}"
      ]
     },
     "execution_count": 48,
     "metadata": {},
     "output_type": "execute_result"
    }
   ],
   "source": [
    "rfr_rcv.best_params_"
   ]
  },
  {
   "cell_type": "code",
   "execution_count": 49,
   "metadata": {
    "ExecuteTime": {
     "end_time": "2020-11-23T15:34:28.478170Z",
     "start_time": "2020-11-23T15:34:28.238919Z"
    }
   },
   "outputs": [
    {
     "data": {
      "text/plain": [
       "RandomForestRegressor(n_estimators=40, n_jobs=-1, random_state=42)"
      ]
     },
     "execution_count": 49,
     "metadata": {},
     "output_type": "execute_result"
    }
   ],
   "source": [
    "best_rfr = RandomForestRegressor(n_jobs=-1, random_state=42, **rfr_rcv.best_params_)\n",
    "best_rfr.fit(X_train, y_train)"
   ]
  },
  {
   "cell_type": "code",
   "execution_count": 50,
   "metadata": {
    "ExecuteTime": {
     "end_time": "2020-11-23T15:34:28.510171Z",
     "start_time": "2020-11-23T15:34:28.478170Z"
    }
   },
   "outputs": [
    {
     "data": {
      "text/plain": [
       "{'Mean Squared Error': 34355024.93036799,\n",
       " 'Root Mean Squared Error': 5861.315972575441,\n",
       " 'Mean Absolute Error': 2592.6423621375006,\n",
       " 'R2 Score': 0.9920077164557987,\n",
       " 'Explained Variance Score': 0.9920325987127766}"
      ]
     },
     "execution_count": 50,
     "metadata": {},
     "output_type": "execute_result"
    }
   ],
   "source": [
    "best_rfr_eval = evaluate_test(best_rfr)\n",
    "best_rfr_eval"
   ]
  },
  {
   "cell_type": "markdown",
   "metadata": {},
   "source": [
    "# Plant 2 (import and cleaning)"
   ]
  },
  {
   "cell_type": "code",
   "execution_count": 51,
   "metadata": {
    "ExecuteTime": {
     "end_time": "2020-11-23T15:34:28.864998Z",
     "start_time": "2020-11-23T15:34:28.510171Z"
    }
   },
   "outputs": [
    {
     "data": {
      "text/html": [
       "<div>\n",
       "<style scoped>\n",
       "    .dataframe tbody tr th:only-of-type {\n",
       "        vertical-align: middle;\n",
       "    }\n",
       "\n",
       "    .dataframe tbody tr th {\n",
       "        vertical-align: top;\n",
       "    }\n",
       "\n",
       "    .dataframe thead th {\n",
       "        text-align: right;\n",
       "    }\n",
       "</style>\n",
       "<table border=\"1\" class=\"dataframe\">\n",
       "  <thead>\n",
       "    <tr style=\"text-align: right;\">\n",
       "      <th></th>\n",
       "      <th>DATE_TIME</th>\n",
       "      <th>PLANT_ID</th>\n",
       "      <th>SOURCE_KEY</th>\n",
       "      <th>DC_POWER</th>\n",
       "      <th>AC_POWER</th>\n",
       "      <th>DAILY_YIELD</th>\n",
       "      <th>TOTAL_YIELD</th>\n",
       "    </tr>\n",
       "  </thead>\n",
       "  <tbody>\n",
       "    <tr>\n",
       "      <th>0</th>\n",
       "      <td>2020-05-15 00:00:00</td>\n",
       "      <td>4136001</td>\n",
       "      <td>4UPUqMRk7TRMgml</td>\n",
       "      <td>0.0</td>\n",
       "      <td>0.0</td>\n",
       "      <td>9425.000000</td>\n",
       "      <td>2.429011e+06</td>\n",
       "    </tr>\n",
       "    <tr>\n",
       "      <th>1</th>\n",
       "      <td>2020-05-15 00:00:00</td>\n",
       "      <td>4136001</td>\n",
       "      <td>81aHJ1q11NBPMrL</td>\n",
       "      <td>0.0</td>\n",
       "      <td>0.0</td>\n",
       "      <td>0.000000</td>\n",
       "      <td>1.215279e+09</td>\n",
       "    </tr>\n",
       "    <tr>\n",
       "      <th>2</th>\n",
       "      <td>2020-05-15 00:00:00</td>\n",
       "      <td>4136001</td>\n",
       "      <td>9kRcWv60rDACzjR</td>\n",
       "      <td>0.0</td>\n",
       "      <td>0.0</td>\n",
       "      <td>3075.333333</td>\n",
       "      <td>2.247720e+09</td>\n",
       "    </tr>\n",
       "    <tr>\n",
       "      <th>3</th>\n",
       "      <td>2020-05-15 00:00:00</td>\n",
       "      <td>4136001</td>\n",
       "      <td>Et9kgGMDl729KT4</td>\n",
       "      <td>0.0</td>\n",
       "      <td>0.0</td>\n",
       "      <td>269.933333</td>\n",
       "      <td>1.704250e+06</td>\n",
       "    </tr>\n",
       "    <tr>\n",
       "      <th>4</th>\n",
       "      <td>2020-05-15 00:00:00</td>\n",
       "      <td>4136001</td>\n",
       "      <td>IQ2d7wF4YD8zU1Q</td>\n",
       "      <td>0.0</td>\n",
       "      <td>0.0</td>\n",
       "      <td>3177.000000</td>\n",
       "      <td>1.994153e+07</td>\n",
       "    </tr>\n",
       "    <tr>\n",
       "      <th>...</th>\n",
       "      <td>...</td>\n",
       "      <td>...</td>\n",
       "      <td>...</td>\n",
       "      <td>...</td>\n",
       "      <td>...</td>\n",
       "      <td>...</td>\n",
       "      <td>...</td>\n",
       "    </tr>\n",
       "    <tr>\n",
       "      <th>67693</th>\n",
       "      <td>2020-06-17 23:45:00</td>\n",
       "      <td>4136001</td>\n",
       "      <td>q49J1IKaHRwDQnt</td>\n",
       "      <td>0.0</td>\n",
       "      <td>0.0</td>\n",
       "      <td>4157.000000</td>\n",
       "      <td>5.207580e+05</td>\n",
       "    </tr>\n",
       "    <tr>\n",
       "      <th>67694</th>\n",
       "      <td>2020-06-17 23:45:00</td>\n",
       "      <td>4136001</td>\n",
       "      <td>rrq4fwE8jgrTyWY</td>\n",
       "      <td>0.0</td>\n",
       "      <td>0.0</td>\n",
       "      <td>3931.000000</td>\n",
       "      <td>1.211314e+08</td>\n",
       "    </tr>\n",
       "    <tr>\n",
       "      <th>67695</th>\n",
       "      <td>2020-06-17 23:45:00</td>\n",
       "      <td>4136001</td>\n",
       "      <td>vOuJvMaM2sgwLmb</td>\n",
       "      <td>0.0</td>\n",
       "      <td>0.0</td>\n",
       "      <td>4322.000000</td>\n",
       "      <td>2.427691e+06</td>\n",
       "    </tr>\n",
       "    <tr>\n",
       "      <th>67696</th>\n",
       "      <td>2020-06-17 23:45:00</td>\n",
       "      <td>4136001</td>\n",
       "      <td>xMbIugepa2P7lBB</td>\n",
       "      <td>0.0</td>\n",
       "      <td>0.0</td>\n",
       "      <td>4218.000000</td>\n",
       "      <td>1.068964e+08</td>\n",
       "    </tr>\n",
       "    <tr>\n",
       "      <th>67697</th>\n",
       "      <td>2020-06-17 23:45:00</td>\n",
       "      <td>4136001</td>\n",
       "      <td>xoJJ8DcxJEcupym</td>\n",
       "      <td>0.0</td>\n",
       "      <td>0.0</td>\n",
       "      <td>4316.000000</td>\n",
       "      <td>2.093357e+08</td>\n",
       "    </tr>\n",
       "  </tbody>\n",
       "</table>\n",
       "<p>67698 rows × 7 columns</p>\n",
       "</div>"
      ],
      "text/plain": [
       "                 DATE_TIME  PLANT_ID       SOURCE_KEY  DC_POWER  AC_POWER  \\\n",
       "0      2020-05-15 00:00:00   4136001  4UPUqMRk7TRMgml       0.0       0.0   \n",
       "1      2020-05-15 00:00:00   4136001  81aHJ1q11NBPMrL       0.0       0.0   \n",
       "2      2020-05-15 00:00:00   4136001  9kRcWv60rDACzjR       0.0       0.0   \n",
       "3      2020-05-15 00:00:00   4136001  Et9kgGMDl729KT4       0.0       0.0   \n",
       "4      2020-05-15 00:00:00   4136001  IQ2d7wF4YD8zU1Q       0.0       0.0   \n",
       "...                    ...       ...              ...       ...       ...   \n",
       "67693  2020-06-17 23:45:00   4136001  q49J1IKaHRwDQnt       0.0       0.0   \n",
       "67694  2020-06-17 23:45:00   4136001  rrq4fwE8jgrTyWY       0.0       0.0   \n",
       "67695  2020-06-17 23:45:00   4136001  vOuJvMaM2sgwLmb       0.0       0.0   \n",
       "67696  2020-06-17 23:45:00   4136001  xMbIugepa2P7lBB       0.0       0.0   \n",
       "67697  2020-06-17 23:45:00   4136001  xoJJ8DcxJEcupym       0.0       0.0   \n",
       "\n",
       "       DAILY_YIELD   TOTAL_YIELD  \n",
       "0      9425.000000  2.429011e+06  \n",
       "1         0.000000  1.215279e+09  \n",
       "2      3075.333333  2.247720e+09  \n",
       "3       269.933333  1.704250e+06  \n",
       "4      3177.000000  1.994153e+07  \n",
       "...            ...           ...  \n",
       "67693  4157.000000  5.207580e+05  \n",
       "67694  3931.000000  1.211314e+08  \n",
       "67695  4322.000000  2.427691e+06  \n",
       "67696  4218.000000  1.068964e+08  \n",
       "67697  4316.000000  2.093357e+08  \n",
       "\n",
       "[67698 rows x 7 columns]"
      ]
     },
     "execution_count": 51,
     "metadata": {},
     "output_type": "execute_result"
    }
   ],
   "source": [
    "plant2 = pd.read_csv(\n",
    "    'solar_data/Plant_2_Generation_Data.csv', low_memory=False)\n",
    "plant2"
   ]
  },
  {
   "cell_type": "code",
   "execution_count": 52,
   "metadata": {
    "ExecuteTime": {
     "end_time": "2020-11-23T15:34:28.896802Z",
     "start_time": "2020-11-23T15:34:28.864998Z"
    }
   },
   "outputs": [
    {
     "data": {
      "text/html": [
       "<div>\n",
       "<style scoped>\n",
       "    .dataframe tbody tr th:only-of-type {\n",
       "        vertical-align: middle;\n",
       "    }\n",
       "\n",
       "    .dataframe tbody tr th {\n",
       "        vertical-align: top;\n",
       "    }\n",
       "\n",
       "    .dataframe thead th {\n",
       "        text-align: right;\n",
       "    }\n",
       "</style>\n",
       "<table border=\"1\" class=\"dataframe\">\n",
       "  <thead>\n",
       "    <tr style=\"text-align: right;\">\n",
       "      <th></th>\n",
       "      <th>DC_POWER</th>\n",
       "      <th>AC_POWER</th>\n",
       "      <th>DAILY_YIELD</th>\n",
       "      <th>TOTAL_YIELD</th>\n",
       "    </tr>\n",
       "    <tr>\n",
       "      <th>DATE_TIME</th>\n",
       "      <th></th>\n",
       "      <th></th>\n",
       "      <th></th>\n",
       "      <th></th>\n",
       "    </tr>\n",
       "  </thead>\n",
       "  <tbody>\n",
       "    <tr>\n",
       "      <th>2020-05-15 00:00:00</th>\n",
       "      <td>0.0</td>\n",
       "      <td>0.0</td>\n",
       "      <td>48899.938095</td>\n",
       "      <td>1.418960e+10</td>\n",
       "    </tr>\n",
       "    <tr>\n",
       "      <th>2020-05-15 00:15:00</th>\n",
       "      <td>0.0</td>\n",
       "      <td>0.0</td>\n",
       "      <td>28401.000000</td>\n",
       "      <td>1.418960e+10</td>\n",
       "    </tr>\n",
       "    <tr>\n",
       "      <th>2020-05-15 00:30:00</th>\n",
       "      <td>0.0</td>\n",
       "      <td>0.0</td>\n",
       "      <td>28401.000000</td>\n",
       "      <td>1.418960e+10</td>\n",
       "    </tr>\n",
       "    <tr>\n",
       "      <th>2020-05-15 00:45:00</th>\n",
       "      <td>0.0</td>\n",
       "      <td>0.0</td>\n",
       "      <td>28401.000000</td>\n",
       "      <td>1.418960e+10</td>\n",
       "    </tr>\n",
       "    <tr>\n",
       "      <th>2020-05-15 01:00:00</th>\n",
       "      <td>0.0</td>\n",
       "      <td>0.0</td>\n",
       "      <td>26516.000000</td>\n",
       "      <td>1.418960e+10</td>\n",
       "    </tr>\n",
       "    <tr>\n",
       "      <th>...</th>\n",
       "      <td>...</td>\n",
       "      <td>...</td>\n",
       "      <td>...</td>\n",
       "      <td>...</td>\n",
       "    </tr>\n",
       "    <tr>\n",
       "      <th>2020-06-17 22:45:00</th>\n",
       "      <td>0.0</td>\n",
       "      <td>0.0</td>\n",
       "      <td>93040.000000</td>\n",
       "      <td>1.419408e+10</td>\n",
       "    </tr>\n",
       "    <tr>\n",
       "      <th>2020-06-17 23:00:00</th>\n",
       "      <td>0.0</td>\n",
       "      <td>0.0</td>\n",
       "      <td>93040.000000</td>\n",
       "      <td>1.419408e+10</td>\n",
       "    </tr>\n",
       "    <tr>\n",
       "      <th>2020-06-17 23:15:00</th>\n",
       "      <td>0.0</td>\n",
       "      <td>0.0</td>\n",
       "      <td>93040.000000</td>\n",
       "      <td>1.419408e+10</td>\n",
       "    </tr>\n",
       "    <tr>\n",
       "      <th>2020-06-17 23:30:00</th>\n",
       "      <td>0.0</td>\n",
       "      <td>0.0</td>\n",
       "      <td>93040.000000</td>\n",
       "      <td>1.419408e+10</td>\n",
       "    </tr>\n",
       "    <tr>\n",
       "      <th>2020-06-17 23:45:00</th>\n",
       "      <td>0.0</td>\n",
       "      <td>0.0</td>\n",
       "      <td>93040.000000</td>\n",
       "      <td>1.419408e+10</td>\n",
       "    </tr>\n",
       "  </tbody>\n",
       "</table>\n",
       "<p>3259 rows × 4 columns</p>\n",
       "</div>"
      ],
      "text/plain": [
       "                     DC_POWER  AC_POWER   DAILY_YIELD   TOTAL_YIELD\n",
       "DATE_TIME                                                          \n",
       "2020-05-15 00:00:00       0.0       0.0  48899.938095  1.418960e+10\n",
       "2020-05-15 00:15:00       0.0       0.0  28401.000000  1.418960e+10\n",
       "2020-05-15 00:30:00       0.0       0.0  28401.000000  1.418960e+10\n",
       "2020-05-15 00:45:00       0.0       0.0  28401.000000  1.418960e+10\n",
       "2020-05-15 01:00:00       0.0       0.0  26516.000000  1.418960e+10\n",
       "...                       ...       ...           ...           ...\n",
       "2020-06-17 22:45:00       0.0       0.0  93040.000000  1.419408e+10\n",
       "2020-06-17 23:00:00       0.0       0.0  93040.000000  1.419408e+10\n",
       "2020-06-17 23:15:00       0.0       0.0  93040.000000  1.419408e+10\n",
       "2020-06-17 23:30:00       0.0       0.0  93040.000000  1.419408e+10\n",
       "2020-06-17 23:45:00       0.0       0.0  93040.000000  1.419408e+10\n",
       "\n",
       "[3259 rows x 4 columns]"
      ]
     },
     "execution_count": 52,
     "metadata": {},
     "output_type": "execute_result"
    }
   ],
   "source": [
    "plant2 = plant2.groupby('DATE_TIME')[\n",
    "    ['DC_POWER', 'AC_POWER', 'DAILY_YIELD', 'TOTAL_YIELD']].agg('sum')\n",
    "plant2"
   ]
  },
  {
   "cell_type": "code",
   "execution_count": 53,
   "metadata": {
    "ExecuteTime": {
     "end_time": "2020-11-23T15:34:28.985932Z",
     "start_time": "2020-11-23T15:34:28.896802Z"
    }
   },
   "outputs": [
    {
     "data": {
      "text/html": [
       "<div>\n",
       "<style scoped>\n",
       "    .dataframe tbody tr th:only-of-type {\n",
       "        vertical-align: middle;\n",
       "    }\n",
       "\n",
       "    .dataframe tbody tr th {\n",
       "        vertical-align: top;\n",
       "    }\n",
       "\n",
       "    .dataframe thead th {\n",
       "        text-align: right;\n",
       "    }\n",
       "</style>\n",
       "<table border=\"1\" class=\"dataframe\">\n",
       "  <thead>\n",
       "    <tr style=\"text-align: right;\">\n",
       "      <th></th>\n",
       "      <th>DATE_TIME</th>\n",
       "      <th>DC_POWER</th>\n",
       "      <th>AC_POWER</th>\n",
       "      <th>DAILY_YIELD</th>\n",
       "      <th>TOTAL_YIELD</th>\n",
       "    </tr>\n",
       "  </thead>\n",
       "  <tbody>\n",
       "    <tr>\n",
       "      <th>0</th>\n",
       "      <td>2020-05-15 00:00:00</td>\n",
       "      <td>0.0</td>\n",
       "      <td>0.0</td>\n",
       "      <td>48899.938095</td>\n",
       "      <td>1.418960e+10</td>\n",
       "    </tr>\n",
       "    <tr>\n",
       "      <th>1</th>\n",
       "      <td>2020-05-15 00:15:00</td>\n",
       "      <td>0.0</td>\n",
       "      <td>0.0</td>\n",
       "      <td>28401.000000</td>\n",
       "      <td>1.418960e+10</td>\n",
       "    </tr>\n",
       "    <tr>\n",
       "      <th>2</th>\n",
       "      <td>2020-05-15 00:30:00</td>\n",
       "      <td>0.0</td>\n",
       "      <td>0.0</td>\n",
       "      <td>28401.000000</td>\n",
       "      <td>1.418960e+10</td>\n",
       "    </tr>\n",
       "    <tr>\n",
       "      <th>3</th>\n",
       "      <td>2020-05-15 00:45:00</td>\n",
       "      <td>0.0</td>\n",
       "      <td>0.0</td>\n",
       "      <td>28401.000000</td>\n",
       "      <td>1.418960e+10</td>\n",
       "    </tr>\n",
       "    <tr>\n",
       "      <th>4</th>\n",
       "      <td>2020-05-15 01:00:00</td>\n",
       "      <td>0.0</td>\n",
       "      <td>0.0</td>\n",
       "      <td>26516.000000</td>\n",
       "      <td>1.418960e+10</td>\n",
       "    </tr>\n",
       "    <tr>\n",
       "      <th>...</th>\n",
       "      <td>...</td>\n",
       "      <td>...</td>\n",
       "      <td>...</td>\n",
       "      <td>...</td>\n",
       "      <td>...</td>\n",
       "    </tr>\n",
       "    <tr>\n",
       "      <th>3254</th>\n",
       "      <td>2020-06-17 22:45:00</td>\n",
       "      <td>0.0</td>\n",
       "      <td>0.0</td>\n",
       "      <td>93040.000000</td>\n",
       "      <td>1.419408e+10</td>\n",
       "    </tr>\n",
       "    <tr>\n",
       "      <th>3255</th>\n",
       "      <td>2020-06-17 23:00:00</td>\n",
       "      <td>0.0</td>\n",
       "      <td>0.0</td>\n",
       "      <td>93040.000000</td>\n",
       "      <td>1.419408e+10</td>\n",
       "    </tr>\n",
       "    <tr>\n",
       "      <th>3256</th>\n",
       "      <td>2020-06-17 23:15:00</td>\n",
       "      <td>0.0</td>\n",
       "      <td>0.0</td>\n",
       "      <td>93040.000000</td>\n",
       "      <td>1.419408e+10</td>\n",
       "    </tr>\n",
       "    <tr>\n",
       "      <th>3257</th>\n",
       "      <td>2020-06-17 23:30:00</td>\n",
       "      <td>0.0</td>\n",
       "      <td>0.0</td>\n",
       "      <td>93040.000000</td>\n",
       "      <td>1.419408e+10</td>\n",
       "    </tr>\n",
       "    <tr>\n",
       "      <th>3258</th>\n",
       "      <td>2020-06-17 23:45:00</td>\n",
       "      <td>0.0</td>\n",
       "      <td>0.0</td>\n",
       "      <td>93040.000000</td>\n",
       "      <td>1.419408e+10</td>\n",
       "    </tr>\n",
       "  </tbody>\n",
       "</table>\n",
       "<p>3259 rows × 5 columns</p>\n",
       "</div>"
      ],
      "text/plain": [
       "                DATE_TIME  DC_POWER  AC_POWER   DAILY_YIELD   TOTAL_YIELD\n",
       "0     2020-05-15 00:00:00       0.0       0.0  48899.938095  1.418960e+10\n",
       "1     2020-05-15 00:15:00       0.0       0.0  28401.000000  1.418960e+10\n",
       "2     2020-05-15 00:30:00       0.0       0.0  28401.000000  1.418960e+10\n",
       "3     2020-05-15 00:45:00       0.0       0.0  28401.000000  1.418960e+10\n",
       "4     2020-05-15 01:00:00       0.0       0.0  26516.000000  1.418960e+10\n",
       "...                   ...       ...       ...           ...           ...\n",
       "3254  2020-06-17 22:45:00       0.0       0.0  93040.000000  1.419408e+10\n",
       "3255  2020-06-17 23:00:00       0.0       0.0  93040.000000  1.419408e+10\n",
       "3256  2020-06-17 23:15:00       0.0       0.0  93040.000000  1.419408e+10\n",
       "3257  2020-06-17 23:30:00       0.0       0.0  93040.000000  1.419408e+10\n",
       "3258  2020-06-17 23:45:00       0.0       0.0  93040.000000  1.419408e+10\n",
       "\n",
       "[3259 rows x 5 columns]"
      ]
     },
     "execution_count": 53,
     "metadata": {},
     "output_type": "execute_result"
    }
   ],
   "source": [
    "plant2.reset_index(inplace=True)\n",
    "plant2"
   ]
  },
  {
   "cell_type": "code",
   "execution_count": 54,
   "metadata": {
    "ExecuteTime": {
     "end_time": "2020-11-23T15:34:29.080652Z",
     "start_time": "2020-11-23T15:34:28.985932Z"
    }
   },
   "outputs": [
    {
     "data": {
      "text/html": [
       "<div>\n",
       "<style scoped>\n",
       "    .dataframe tbody tr th:only-of-type {\n",
       "        vertical-align: middle;\n",
       "    }\n",
       "\n",
       "    .dataframe tbody tr th {\n",
       "        vertical-align: top;\n",
       "    }\n",
       "\n",
       "    .dataframe thead th {\n",
       "        text-align: right;\n",
       "    }\n",
       "</style>\n",
       "<table border=\"1\" class=\"dataframe\">\n",
       "  <thead>\n",
       "    <tr style=\"text-align: right;\">\n",
       "      <th></th>\n",
       "      <th>DATE_TIME</th>\n",
       "      <th>DC_POWER</th>\n",
       "      <th>AC_POWER</th>\n",
       "      <th>DAILY_YIELD</th>\n",
       "      <th>TOTAL_YIELD</th>\n",
       "      <th>Year</th>\n",
       "      <th>Month</th>\n",
       "      <th>Day</th>\n",
       "      <th>Hour</th>\n",
       "      <th>Minute</th>\n",
       "    </tr>\n",
       "  </thead>\n",
       "  <tbody>\n",
       "    <tr>\n",
       "      <th>0</th>\n",
       "      <td>2020-05-15 00:00:00</td>\n",
       "      <td>0.0</td>\n",
       "      <td>0.0</td>\n",
       "      <td>48899.938095</td>\n",
       "      <td>1.418960e+10</td>\n",
       "      <td>2020</td>\n",
       "      <td>5</td>\n",
       "      <td>15</td>\n",
       "      <td>0</td>\n",
       "      <td>0</td>\n",
       "    </tr>\n",
       "    <tr>\n",
       "      <th>1</th>\n",
       "      <td>2020-05-15 00:15:00</td>\n",
       "      <td>0.0</td>\n",
       "      <td>0.0</td>\n",
       "      <td>28401.000000</td>\n",
       "      <td>1.418960e+10</td>\n",
       "      <td>2020</td>\n",
       "      <td>5</td>\n",
       "      <td>15</td>\n",
       "      <td>0</td>\n",
       "      <td>15</td>\n",
       "    </tr>\n",
       "    <tr>\n",
       "      <th>2</th>\n",
       "      <td>2020-05-15 00:30:00</td>\n",
       "      <td>0.0</td>\n",
       "      <td>0.0</td>\n",
       "      <td>28401.000000</td>\n",
       "      <td>1.418960e+10</td>\n",
       "      <td>2020</td>\n",
       "      <td>5</td>\n",
       "      <td>15</td>\n",
       "      <td>0</td>\n",
       "      <td>30</td>\n",
       "    </tr>\n",
       "    <tr>\n",
       "      <th>3</th>\n",
       "      <td>2020-05-15 00:45:00</td>\n",
       "      <td>0.0</td>\n",
       "      <td>0.0</td>\n",
       "      <td>28401.000000</td>\n",
       "      <td>1.418960e+10</td>\n",
       "      <td>2020</td>\n",
       "      <td>5</td>\n",
       "      <td>15</td>\n",
       "      <td>0</td>\n",
       "      <td>45</td>\n",
       "    </tr>\n",
       "    <tr>\n",
       "      <th>4</th>\n",
       "      <td>2020-05-15 01:00:00</td>\n",
       "      <td>0.0</td>\n",
       "      <td>0.0</td>\n",
       "      <td>26516.000000</td>\n",
       "      <td>1.418960e+10</td>\n",
       "      <td>2020</td>\n",
       "      <td>5</td>\n",
       "      <td>15</td>\n",
       "      <td>1</td>\n",
       "      <td>0</td>\n",
       "    </tr>\n",
       "    <tr>\n",
       "      <th>...</th>\n",
       "      <td>...</td>\n",
       "      <td>...</td>\n",
       "      <td>...</td>\n",
       "      <td>...</td>\n",
       "      <td>...</td>\n",
       "      <td>...</td>\n",
       "      <td>...</td>\n",
       "      <td>...</td>\n",
       "      <td>...</td>\n",
       "      <td>...</td>\n",
       "    </tr>\n",
       "    <tr>\n",
       "      <th>3254</th>\n",
       "      <td>2020-06-17 22:45:00</td>\n",
       "      <td>0.0</td>\n",
       "      <td>0.0</td>\n",
       "      <td>93040.000000</td>\n",
       "      <td>1.419408e+10</td>\n",
       "      <td>2020</td>\n",
       "      <td>6</td>\n",
       "      <td>17</td>\n",
       "      <td>22</td>\n",
       "      <td>45</td>\n",
       "    </tr>\n",
       "    <tr>\n",
       "      <th>3255</th>\n",
       "      <td>2020-06-17 23:00:00</td>\n",
       "      <td>0.0</td>\n",
       "      <td>0.0</td>\n",
       "      <td>93040.000000</td>\n",
       "      <td>1.419408e+10</td>\n",
       "      <td>2020</td>\n",
       "      <td>6</td>\n",
       "      <td>17</td>\n",
       "      <td>23</td>\n",
       "      <td>0</td>\n",
       "    </tr>\n",
       "    <tr>\n",
       "      <th>3256</th>\n",
       "      <td>2020-06-17 23:15:00</td>\n",
       "      <td>0.0</td>\n",
       "      <td>0.0</td>\n",
       "      <td>93040.000000</td>\n",
       "      <td>1.419408e+10</td>\n",
       "      <td>2020</td>\n",
       "      <td>6</td>\n",
       "      <td>17</td>\n",
       "      <td>23</td>\n",
       "      <td>15</td>\n",
       "    </tr>\n",
       "    <tr>\n",
       "      <th>3257</th>\n",
       "      <td>2020-06-17 23:30:00</td>\n",
       "      <td>0.0</td>\n",
       "      <td>0.0</td>\n",
       "      <td>93040.000000</td>\n",
       "      <td>1.419408e+10</td>\n",
       "      <td>2020</td>\n",
       "      <td>6</td>\n",
       "      <td>17</td>\n",
       "      <td>23</td>\n",
       "      <td>30</td>\n",
       "    </tr>\n",
       "    <tr>\n",
       "      <th>3258</th>\n",
       "      <td>2020-06-17 23:45:00</td>\n",
       "      <td>0.0</td>\n",
       "      <td>0.0</td>\n",
       "      <td>93040.000000</td>\n",
       "      <td>1.419408e+10</td>\n",
       "      <td>2020</td>\n",
       "      <td>6</td>\n",
       "      <td>17</td>\n",
       "      <td>23</td>\n",
       "      <td>45</td>\n",
       "    </tr>\n",
       "  </tbody>\n",
       "</table>\n",
       "<p>3259 rows × 10 columns</p>\n",
       "</div>"
      ],
      "text/plain": [
       "               DATE_TIME  DC_POWER  AC_POWER   DAILY_YIELD   TOTAL_YIELD  \\\n",
       "0    2020-05-15 00:00:00       0.0       0.0  48899.938095  1.418960e+10   \n",
       "1    2020-05-15 00:15:00       0.0       0.0  28401.000000  1.418960e+10   \n",
       "2    2020-05-15 00:30:00       0.0       0.0  28401.000000  1.418960e+10   \n",
       "3    2020-05-15 00:45:00       0.0       0.0  28401.000000  1.418960e+10   \n",
       "4    2020-05-15 01:00:00       0.0       0.0  26516.000000  1.418960e+10   \n",
       "...                  ...       ...       ...           ...           ...   \n",
       "3254 2020-06-17 22:45:00       0.0       0.0  93040.000000  1.419408e+10   \n",
       "3255 2020-06-17 23:00:00       0.0       0.0  93040.000000  1.419408e+10   \n",
       "3256 2020-06-17 23:15:00       0.0       0.0  93040.000000  1.419408e+10   \n",
       "3257 2020-06-17 23:30:00       0.0       0.0  93040.000000  1.419408e+10   \n",
       "3258 2020-06-17 23:45:00       0.0       0.0  93040.000000  1.419408e+10   \n",
       "\n",
       "      Year  Month  Day  Hour  Minute  \n",
       "0     2020      5   15     0       0  \n",
       "1     2020      5   15     0      15  \n",
       "2     2020      5   15     0      30  \n",
       "3     2020      5   15     0      45  \n",
       "4     2020      5   15     1       0  \n",
       "...    ...    ...  ...   ...     ...  \n",
       "3254  2020      6   17    22      45  \n",
       "3255  2020      6   17    23       0  \n",
       "3256  2020      6   17    23      15  \n",
       "3257  2020      6   17    23      30  \n",
       "3258  2020      6   17    23      45  \n",
       "\n",
       "[3259 rows x 10 columns]"
      ]
     },
     "execution_count": 54,
     "metadata": {},
     "output_type": "execute_result"
    }
   ],
   "source": [
    "plant2['DATE_TIME'] = pd.to_datetime(plant2['DATE_TIME'])\n",
    "plant2['Year'] = plant2['DATE_TIME'].dt.year\n",
    "plant2['Month'] = plant2['DATE_TIME'].dt.month\n",
    "plant2['Day'] = plant2['DATE_TIME'].dt.day\n",
    "plant2['Hour'] = plant2['DATE_TIME'].dt.hour\n",
    "plant2['Minute'] = plant2['DATE_TIME'].dt.minute\n",
    "plant2"
   ]
  },
  {
   "cell_type": "code",
   "execution_count": 55,
   "metadata": {
    "ExecuteTime": {
     "end_time": "2020-11-23T15:34:29.160107Z",
     "start_time": "2020-11-23T15:34:29.080652Z"
    }
   },
   "outputs": [
    {
     "data": {
      "text/html": [
       "<div>\n",
       "<style scoped>\n",
       "    .dataframe tbody tr th:only-of-type {\n",
       "        vertical-align: middle;\n",
       "    }\n",
       "\n",
       "    .dataframe tbody tr th {\n",
       "        vertical-align: top;\n",
       "    }\n",
       "\n",
       "    .dataframe thead th {\n",
       "        text-align: right;\n",
       "    }\n",
       "</style>\n",
       "<table border=\"1\" class=\"dataframe\">\n",
       "  <thead>\n",
       "    <tr style=\"text-align: right;\">\n",
       "      <th></th>\n",
       "      <th>DC_POWER</th>\n",
       "      <th>AC_POWER</th>\n",
       "      <th>DAILY_YIELD</th>\n",
       "      <th>TOTAL_YIELD</th>\n",
       "      <th>Month</th>\n",
       "      <th>Day</th>\n",
       "      <th>Hour</th>\n",
       "      <th>Minute</th>\n",
       "    </tr>\n",
       "  </thead>\n",
       "  <tbody>\n",
       "    <tr>\n",
       "      <th>0</th>\n",
       "      <td>0.0</td>\n",
       "      <td>0.0</td>\n",
       "      <td>48899.938095</td>\n",
       "      <td>1.418960e+10</td>\n",
       "      <td>5</td>\n",
       "      <td>15</td>\n",
       "      <td>0</td>\n",
       "      <td>0</td>\n",
       "    </tr>\n",
       "    <tr>\n",
       "      <th>1</th>\n",
       "      <td>0.0</td>\n",
       "      <td>0.0</td>\n",
       "      <td>28401.000000</td>\n",
       "      <td>1.418960e+10</td>\n",
       "      <td>5</td>\n",
       "      <td>15</td>\n",
       "      <td>0</td>\n",
       "      <td>15</td>\n",
       "    </tr>\n",
       "    <tr>\n",
       "      <th>2</th>\n",
       "      <td>0.0</td>\n",
       "      <td>0.0</td>\n",
       "      <td>28401.000000</td>\n",
       "      <td>1.418960e+10</td>\n",
       "      <td>5</td>\n",
       "      <td>15</td>\n",
       "      <td>0</td>\n",
       "      <td>30</td>\n",
       "    </tr>\n",
       "    <tr>\n",
       "      <th>3</th>\n",
       "      <td>0.0</td>\n",
       "      <td>0.0</td>\n",
       "      <td>28401.000000</td>\n",
       "      <td>1.418960e+10</td>\n",
       "      <td>5</td>\n",
       "      <td>15</td>\n",
       "      <td>0</td>\n",
       "      <td>45</td>\n",
       "    </tr>\n",
       "    <tr>\n",
       "      <th>4</th>\n",
       "      <td>0.0</td>\n",
       "      <td>0.0</td>\n",
       "      <td>26516.000000</td>\n",
       "      <td>1.418960e+10</td>\n",
       "      <td>5</td>\n",
       "      <td>15</td>\n",
       "      <td>1</td>\n",
       "      <td>0</td>\n",
       "    </tr>\n",
       "    <tr>\n",
       "      <th>...</th>\n",
       "      <td>...</td>\n",
       "      <td>...</td>\n",
       "      <td>...</td>\n",
       "      <td>...</td>\n",
       "      <td>...</td>\n",
       "      <td>...</td>\n",
       "      <td>...</td>\n",
       "      <td>...</td>\n",
       "    </tr>\n",
       "    <tr>\n",
       "      <th>3254</th>\n",
       "      <td>0.0</td>\n",
       "      <td>0.0</td>\n",
       "      <td>93040.000000</td>\n",
       "      <td>1.419408e+10</td>\n",
       "      <td>6</td>\n",
       "      <td>17</td>\n",
       "      <td>22</td>\n",
       "      <td>45</td>\n",
       "    </tr>\n",
       "    <tr>\n",
       "      <th>3255</th>\n",
       "      <td>0.0</td>\n",
       "      <td>0.0</td>\n",
       "      <td>93040.000000</td>\n",
       "      <td>1.419408e+10</td>\n",
       "      <td>6</td>\n",
       "      <td>17</td>\n",
       "      <td>23</td>\n",
       "      <td>0</td>\n",
       "    </tr>\n",
       "    <tr>\n",
       "      <th>3256</th>\n",
       "      <td>0.0</td>\n",
       "      <td>0.0</td>\n",
       "      <td>93040.000000</td>\n",
       "      <td>1.419408e+10</td>\n",
       "      <td>6</td>\n",
       "      <td>17</td>\n",
       "      <td>23</td>\n",
       "      <td>15</td>\n",
       "    </tr>\n",
       "    <tr>\n",
       "      <th>3257</th>\n",
       "      <td>0.0</td>\n",
       "      <td>0.0</td>\n",
       "      <td>93040.000000</td>\n",
       "      <td>1.419408e+10</td>\n",
       "      <td>6</td>\n",
       "      <td>17</td>\n",
       "      <td>23</td>\n",
       "      <td>30</td>\n",
       "    </tr>\n",
       "    <tr>\n",
       "      <th>3258</th>\n",
       "      <td>0.0</td>\n",
       "      <td>0.0</td>\n",
       "      <td>93040.000000</td>\n",
       "      <td>1.419408e+10</td>\n",
       "      <td>6</td>\n",
       "      <td>17</td>\n",
       "      <td>23</td>\n",
       "      <td>45</td>\n",
       "    </tr>\n",
       "  </tbody>\n",
       "</table>\n",
       "<p>3259 rows × 8 columns</p>\n",
       "</div>"
      ],
      "text/plain": [
       "      DC_POWER  AC_POWER   DAILY_YIELD   TOTAL_YIELD  Month  Day  Hour  Minute\n",
       "0          0.0       0.0  48899.938095  1.418960e+10      5   15     0       0\n",
       "1          0.0       0.0  28401.000000  1.418960e+10      5   15     0      15\n",
       "2          0.0       0.0  28401.000000  1.418960e+10      5   15     0      30\n",
       "3          0.0       0.0  28401.000000  1.418960e+10      5   15     0      45\n",
       "4          0.0       0.0  26516.000000  1.418960e+10      5   15     1       0\n",
       "...        ...       ...           ...           ...    ...  ...   ...     ...\n",
       "3254       0.0       0.0  93040.000000  1.419408e+10      6   17    22      45\n",
       "3255       0.0       0.0  93040.000000  1.419408e+10      6   17    23       0\n",
       "3256       0.0       0.0  93040.000000  1.419408e+10      6   17    23      15\n",
       "3257       0.0       0.0  93040.000000  1.419408e+10      6   17    23      30\n",
       "3258       0.0       0.0  93040.000000  1.419408e+10      6   17    23      45\n",
       "\n",
       "[3259 rows x 8 columns]"
      ]
     },
     "execution_count": 55,
     "metadata": {},
     "output_type": "execute_result"
    }
   ],
   "source": [
    "del plant2['DATE_TIME']\n",
    "del plant2['Year']\n",
    "plant2"
   ]
  },
  {
   "cell_type": "markdown",
   "metadata": {},
   "source": [
    "# Plant 2 Modeling"
   ]
  },
  {
   "cell_type": "markdown",
   "metadata": {},
   "source": [
    "## Split data and find base result"
   ]
  },
  {
   "cell_type": "code",
   "execution_count": 56,
   "metadata": {
    "ExecuteTime": {
     "end_time": "2020-11-23T15:34:29.236215Z",
     "start_time": "2020-11-23T15:34:29.160107Z"
    }
   },
   "outputs": [
    {
     "data": {
      "text/plain": [
       "((2526, 7), (2526,), (632, 7), (632,))"
      ]
     },
     "execution_count": 56,
     "metadata": {},
     "output_type": "execute_result"
    }
   ],
   "source": [
    "X2 = plant2.drop(columns=['DAILY_YIELD'], axis=1)\n",
    "y2 = plant2['DAILY_YIELD']\n",
    "\n",
    "X_train2, X_test2, y_train2, y_test2 = train_test_split(\n",
    "    X, y, test_size=0.2, random_state=42)\n",
    "X_train2.shape, y_train2.shape, X_test2.shape, y_test2.shape"
   ]
  },
  {
   "cell_type": "code",
   "execution_count": 57,
   "metadata": {
    "ExecuteTime": {
     "end_time": "2020-11-23T15:34:30.002326Z",
     "start_time": "2020-11-23T15:34:29.236215Z"
    }
   },
   "outputs": [
    {
     "name": "stderr",
     "output_type": "stream",
     "text": [
      "C:\\Users\\nrpra\\ML_project\\env\\lib\\site-packages\\sklearn\\linear_model\\_coordinate_descent.py:529: ConvergenceWarning: Objective did not converge. You might want to increase the number of iterations. Duality gap: 1392942230328.6929, tolerance: 1102452673.8365915\n",
      "  model = cd_fast.enet_coordinate_descent(\n"
     ]
    },
    {
     "data": {
      "text/plain": [
       "{'Elastic Net': 0.7446002487811549,\n",
       " 'Ridge': 0.7447312882996436,\n",
       " 'Random Forest': 0.9922872931056886}"
      ]
     },
     "execution_count": 57,
     "metadata": {},
     "output_type": "execute_result"
    }
   ],
   "source": [
    "base_results2 = fit_scores(models, X_train2, X_test2, y_train2, y_test2)\n",
    "base_results2"
   ]
  },
  {
   "cell_type": "markdown",
   "metadata": {},
   "source": [
    "## Test Elastic Net model from plant 1 "
   ]
  },
  {
   "cell_type": "code",
   "execution_count": 58,
   "metadata": {
    "ExecuteTime": {
     "end_time": "2020-11-23T15:34:30.018060Z",
     "start_time": "2020-11-23T15:34:30.002326Z"
    }
   },
   "outputs": [
    {
     "name": "stderr",
     "output_type": "stream",
     "text": [
      "C:\\Users\\nrpra\\ML_project\\env\\lib\\site-packages\\sklearn\\linear_model\\_coordinate_descent.py:529: ConvergenceWarning: Objective did not converge. You might want to increase the number of iterations. Duality gap: 1349388463107.715, tolerance: 1102452673.8365915\n",
      "  model = cd_fast.enet_coordinate_descent(\n"
     ]
    },
    {
     "data": {
      "text/plain": [
       "ElasticNet(alpha=0.001, l1_ratio=0.6000000000000001, max_iter=5,\n",
       "           random_state=42, selection='random')"
      ]
     },
     "execution_count": 58,
     "metadata": {},
     "output_type": "execute_result"
    }
   ],
   "source": [
    "best_EN.fit(X_train2, y_train2)"
   ]
  },
  {
   "cell_type": "code",
   "execution_count": 59,
   "metadata": {
    "ExecuteTime": {
     "end_time": "2020-11-23T15:34:30.146061Z",
     "start_time": "2020-11-23T15:34:30.018060Z"
    }
   },
   "outputs": [
    {
     "data": {
      "text/plain": [
       "0.7446766222551322"
      ]
     },
     "execution_count": 59,
     "metadata": {},
     "output_type": "execute_result"
    }
   ],
   "source": [
    "best_EN.score(X_test2, y_test2)"
   ]
  },
  {
   "cell_type": "markdown",
   "metadata": {},
   "source": [
    "## Test Ridge model from plant 1"
   ]
  },
  {
   "cell_type": "code",
   "execution_count": 60,
   "metadata": {
    "ExecuteTime": {
     "end_time": "2020-11-23T15:47:38.463609Z",
     "start_time": "2020-11-23T15:47:38.447593Z"
    }
   },
   "outputs": [
    {
     "data": {
      "text/plain": [
       "0.7447312882996436"
      ]
     },
     "execution_count": 60,
     "metadata": {},
     "output_type": "execute_result"
    }
   ],
   "source": [
    "best_ridge.score(X_test2, y_test2)"
   ]
  },
  {
   "cell_type": "markdown",
   "metadata": {},
   "source": [
    "## Test Random Forest model from plant 1"
   ]
  },
  {
   "cell_type": "code",
   "execution_count": 65,
   "metadata": {
    "ExecuteTime": {
     "end_time": "2020-11-23T15:50:42.387462Z",
     "start_time": "2020-11-23T15:50:42.355402Z"
    }
   },
   "outputs": [
    {
     "data": {
      "text/plain": [
       "0.9920077164557987"
      ]
     },
     "execution_count": 65,
     "metadata": {},
     "output_type": "execute_result"
    }
   ],
   "source": [
    "best_rfr.score(X_test2, y_test2)"
   ]
  },
  {
   "cell_type": "code",
   "execution_count": null,
   "metadata": {},
   "outputs": [],
   "source": []
  }
 ],
 "metadata": {
  "kernelspec": {
   "display_name": "Python 3",
   "language": "python",
   "name": "python3"
  },
  "language_info": {
   "codemirror_mode": {
    "name": "ipython",
    "version": 3
   },
   "file_extension": ".py",
   "mimetype": "text/x-python",
   "name": "python",
   "nbconvert_exporter": "python",
   "pygments_lexer": "ipython3",
   "version": "3.8.5"
  },
  "toc": {
   "base_numbering": 1,
   "nav_menu": {},
   "number_sections": true,
   "sideBar": true,
   "skip_h1_title": false,
   "title_cell": "Table of Contents",
   "title_sidebar": "Contents",
   "toc_cell": false,
   "toc_position": {
    "height": "calc(100% - 180px)",
    "left": "10px",
    "top": "150px",
    "width": "229.188px"
   },
   "toc_section_display": true,
   "toc_window_display": true
  },
  "varInspector": {
   "cols": {
    "lenName": 16,
    "lenType": 16,
    "lenVar": 40
   },
   "kernels_config": {
    "python": {
     "delete_cmd_postfix": "",
     "delete_cmd_prefix": "del ",
     "library": "var_list.py",
     "varRefreshCmd": "print(var_dic_list())"
    },
    "r": {
     "delete_cmd_postfix": ") ",
     "delete_cmd_prefix": "rm(",
     "library": "var_list.r",
     "varRefreshCmd": "cat(var_dic_list()) "
    }
   },
   "position": {
    "height": "327px",
    "left": "996px",
    "right": "20px",
    "top": "120px",
    "width": "350px"
   },
   "types_to_exclude": [
    "module",
    "function",
    "builtin_function_or_method",
    "instance",
    "_Feature"
   ],
   "window_display": false
  }
 },
 "nbformat": 4,
 "nbformat_minor": 4
}
